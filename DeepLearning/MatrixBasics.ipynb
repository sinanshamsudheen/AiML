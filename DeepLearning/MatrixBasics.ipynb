{
 "cells": [
  {
   "cell_type": "code",
   "execution_count": 14,
   "id": "a217ce1d-3fe6-4093-b117-3d877a8792d9",
   "metadata": {},
   "outputs": [],
   "source": [
    "import numpy as np"
   ]
  },
  {
   "cell_type": "code",
   "execution_count": 15,
   "id": "33ae11d9-6ce6-4ba4-bb7d-ff2fb95490a0",
   "metadata": {},
   "outputs": [],
   "source": [
    "revenue = np.array([[180,200,200],[24,36,40],[12,18,20]])\n",
    "expenses = np.array([[80,90,100],[10,16,20],[8,10,10]])"
   ]
  },
  {
   "cell_type": "code",
   "execution_count": 20,
   "id": "b19fb06c-05a6-4f92-b523-1961ce576380",
   "metadata": {},
   "outputs": [
    {
     "data": {
      "text/plain": [
       "array([[14400, 18000, 20000],\n",
       "       [  240,   576,   800],\n",
       "       [   96,   180,   200]])"
      ]
     },
     "execution_count": 20,
     "metadata": {},
     "output_type": "execute_result"
    }
   ],
   "source": [
    "np.multiply(revenue,expenses)"
   ]
  },
  {
   "cell_type": "code",
   "execution_count": 19,
   "id": "532e9a73-ae33-4fe1-97de-9aa4f4d65181",
   "metadata": {},
   "outputs": [
    {
     "data": {
      "text/plain": [
       "array([[100, 110, 100],\n",
       "       [ 14,  20,  20],\n",
       "       [  4,   8,  10]])"
      ]
     },
     "execution_count": 19,
     "metadata": {},
     "output_type": "execute_result"
    }
   ],
   "source": [
    "profit=revenue-expenses\n",
    "profit"
   ]
  },
  {
   "cell_type": "code",
   "execution_count": 21,
   "id": "d053a6da-5e87-4a3d-a1d2-8cef27f21cc8",
   "metadata": {},
   "outputs": [
    {
     "data": {
      "text/plain": [
       "array([[14400, 18000, 20000],\n",
       "       [  240,   576,   800],\n",
       "       [   96,   180,   200]])"
      ]
     },
     "execution_count": 21,
     "metadata": {},
     "output_type": "execute_result"
    }
   ],
   "source": [
    "revenue*expenses"
   ]
  },
  {
   "cell_type": "code",
   "execution_count": 22,
   "id": "c5fe9f95-80df-409c-8634-6cf14637bad8",
   "metadata": {},
   "outputs": [
    {
     "data": {
      "text/plain": [
       "array([[ 80000,  36000, 120000],\n",
       "       [ 10000,   6400,  24000],\n",
       "       [  8000,   4000,  12000]])"
      ]
     },
     "execution_count": 22,
     "metadata": {},
     "output_type": "execute_result"
    }
   ],
   "source": [
    "single=np.array([1000,400,1200])\n",
    "single*expenses"
   ]
  },
  {
   "cell_type": "code",
   "execution_count": 24,
   "id": "49cfdd03-6bfc-4b36-b59c-a77adbc5f7e7",
   "metadata": {},
   "outputs": [
    {
     "data": {
      "text/plain": [
       "array([ 93600, 108400, 120000])"
      ]
     },
     "execution_count": 24,
     "metadata": {},
     "output_type": "execute_result"
    }
   ],
   "source": [
    "#here we can see that the result array is not of the correct dimension, therefore\n",
    "np.dot(single, expenses)"
   ]
  },
  {
   "cell_type": "markdown",
   "id": "02d112c2-dd7a-4b0f-bcdc-f34fd29fae82",
   "metadata": {},
   "source": [
    "EXERCISE"
   ]
  },
  {
   "cell_type": "code",
   "execution_count": 25,
   "id": "c88e3c4c-4516-45dc-aa06-906ba44030fb",
   "metadata": {},
   "outputs": [
    {
     "data": {
      "text/plain": [
       "array([[200, 220, 250],\n",
       "       [ 68,  79, 105],\n",
       "       [110,  40, 180],\n",
       "       [ 80,  85,  90]])"
      ]
     },
     "execution_count": 25,
     "metadata": {},
     "output_type": "execute_result"
    }
   ],
   "source": [
    "arr = np.array([[200,220,250],[68,79,105],[110,40,180],[80,85,90]])\n",
    "arr"
   ]
  },
  {
   "cell_type": "code",
   "execution_count": 28,
   "id": "638293b4-1347-4fef-8460-5fca1f581f74",
   "metadata": {},
   "outputs": [
    {
     "data": {
      "text/plain": [
       "array([[15000, 16500, 18750],\n",
       "       [ 5100,  5925,  7875],\n",
       "       [ 8250,  3000, 13500],\n",
       "       [ 6000,  6375,  6750]])"
      ]
     },
     "execution_count": 28,
     "metadata": {},
     "output_type": "execute_result"
    }
   ],
   "source": [
    "#converting each values to INR from USD\n",
    "res = np.multiply(arr,75)\n",
    "res"
   ]
  },
  {
   "cell_type": "code",
   "execution_count": 29,
   "id": "39fe8cf8-bc4e-4010-b842-8dae5da9bc81",
   "metadata": {},
   "outputs": [],
   "source": [
    "units_sold = np.array([[50,60,25],[10,13,5],[40,70,52]])\n",
    "price_per_unit=np.array([20,30,15])"
   ]
  },
  {
   "cell_type": "code",
   "execution_count": 32,
   "id": "4a96fe92-3eb6-48aa-b81f-dfb99f41f227",
   "metadata": {},
   "outputs": [
    {
     "data": {
      "text/plain": [
       "array([1900, 2640, 1430])"
      ]
     },
     "execution_count": 32,
     "metadata": {},
     "output_type": "execute_result"
    }
   ],
   "source": [
    "total_sales = np.dot(price_per_unit,units_sold)\n",
    "total_sales"
   ]
  },
  {
   "cell_type": "code",
   "execution_count": null,
   "id": "82ae15f3-7e4d-4f74-b2a2-d5a6a328030d",
   "metadata": {},
   "outputs": [],
   "source": []
  }
 ],
 "metadata": {
  "kernelspec": {
   "display_name": "Python 3 (ipykernel)",
   "language": "python",
   "name": "python3"
  },
  "language_info": {
   "codemirror_mode": {
    "name": "ipython",
    "version": 3
   },
   "file_extension": ".py",
   "mimetype": "text/x-python",
   "name": "python",
   "nbconvert_exporter": "python",
   "pygments_lexer": "ipython3",
   "version": "3.10.10"
  }
 },
 "nbformat": 4,
 "nbformat_minor": 5
}
