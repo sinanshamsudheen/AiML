{
 "cells": [
  {
   "cell_type": "code",
   "execution_count": 1,
   "id": "566a5d89-6320-4989-af88-4d8365c26502",
   "metadata": {},
   "outputs": [],
   "source": [
    "import pandas as pd\n",
    "from matplotlib import pyplot as plt\n",
    "import numpy as np\n",
    "%matplotlib inline"
   ]
  },
  {
   "cell_type": "code",
   "execution_count": 2,
   "id": "23603abe-40b3-4a03-8010-f5eafc703ba4",
   "metadata": {},
   "outputs": [
    {
     "data": {
      "text/html": [
       "<div>\n",
       "<style scoped>\n",
       "    .dataframe tbody tr th:only-of-type {\n",
       "        vertical-align: middle;\n",
       "    }\n",
       "\n",
       "    .dataframe tbody tr th {\n",
       "        vertical-align: top;\n",
       "    }\n",
       "\n",
       "    .dataframe thead th {\n",
       "        text-align: right;\n",
       "    }\n",
       "</style>\n",
       "<table border=\"1\" class=\"dataframe\">\n",
       "  <thead>\n",
       "    <tr style=\"text-align: right;\">\n",
       "      <th></th>\n",
       "      <th>customerID</th>\n",
       "      <th>gender</th>\n",
       "      <th>SeniorCitizen</th>\n",
       "      <th>Partner</th>\n",
       "      <th>Dependents</th>\n",
       "      <th>tenure</th>\n",
       "      <th>PhoneService</th>\n",
       "      <th>MultipleLines</th>\n",
       "      <th>InternetService</th>\n",
       "      <th>OnlineSecurity</th>\n",
       "      <th>...</th>\n",
       "      <th>DeviceProtection</th>\n",
       "      <th>TechSupport</th>\n",
       "      <th>StreamingTV</th>\n",
       "      <th>StreamingMovies</th>\n",
       "      <th>Contract</th>\n",
       "      <th>PaperlessBilling</th>\n",
       "      <th>PaymentMethod</th>\n",
       "      <th>MonthlyCharges</th>\n",
       "      <th>TotalCharges</th>\n",
       "      <th>Churn</th>\n",
       "    </tr>\n",
       "  </thead>\n",
       "  <tbody>\n",
       "    <tr>\n",
       "      <th>5637</th>\n",
       "      <td>4423-JWZJN</td>\n",
       "      <td>Male</td>\n",
       "      <td>0</td>\n",
       "      <td>Yes</td>\n",
       "      <td>Yes</td>\n",
       "      <td>64</td>\n",
       "      <td>Yes</td>\n",
       "      <td>Yes</td>\n",
       "      <td>Fiber optic</td>\n",
       "      <td>No</td>\n",
       "      <td>...</td>\n",
       "      <td>Yes</td>\n",
       "      <td>No</td>\n",
       "      <td>No</td>\n",
       "      <td>Yes</td>\n",
       "      <td>One year</td>\n",
       "      <td>No</td>\n",
       "      <td>Credit card (automatic)</td>\n",
       "      <td>90.25</td>\n",
       "      <td>5629.15</td>\n",
       "      <td>No</td>\n",
       "    </tr>\n",
       "    <tr>\n",
       "      <th>4207</th>\n",
       "      <td>8706-HRADD</td>\n",
       "      <td>Male</td>\n",
       "      <td>0</td>\n",
       "      <td>No</td>\n",
       "      <td>No</td>\n",
       "      <td>21</td>\n",
       "      <td>No</td>\n",
       "      <td>No phone service</td>\n",
       "      <td>DSL</td>\n",
       "      <td>Yes</td>\n",
       "      <td>...</td>\n",
       "      <td>No</td>\n",
       "      <td>Yes</td>\n",
       "      <td>Yes</td>\n",
       "      <td>No</td>\n",
       "      <td>Month-to-month</td>\n",
       "      <td>Yes</td>\n",
       "      <td>Mailed check</td>\n",
       "      <td>43.55</td>\n",
       "      <td>1011.5</td>\n",
       "      <td>No</td>\n",
       "    </tr>\n",
       "    <tr>\n",
       "      <th>6839</th>\n",
       "      <td>4078-SAYYN</td>\n",
       "      <td>Female</td>\n",
       "      <td>0</td>\n",
       "      <td>No</td>\n",
       "      <td>No</td>\n",
       "      <td>11</td>\n",
       "      <td>Yes</td>\n",
       "      <td>Yes</td>\n",
       "      <td>Fiber optic</td>\n",
       "      <td>No</td>\n",
       "      <td>...</td>\n",
       "      <td>Yes</td>\n",
       "      <td>No</td>\n",
       "      <td>Yes</td>\n",
       "      <td>Yes</td>\n",
       "      <td>Month-to-month</td>\n",
       "      <td>Yes</td>\n",
       "      <td>Electronic check</td>\n",
       "      <td>100.75</td>\n",
       "      <td>1129.75</td>\n",
       "      <td>Yes</td>\n",
       "    </tr>\n",
       "    <tr>\n",
       "      <th>3565</th>\n",
       "      <td>4317-VTEOA</td>\n",
       "      <td>Male</td>\n",
       "      <td>0</td>\n",
       "      <td>No</td>\n",
       "      <td>No</td>\n",
       "      <td>1</td>\n",
       "      <td>Yes</td>\n",
       "      <td>No</td>\n",
       "      <td>DSL</td>\n",
       "      <td>No</td>\n",
       "      <td>...</td>\n",
       "      <td>No</td>\n",
       "      <td>No</td>\n",
       "      <td>No</td>\n",
       "      <td>No</td>\n",
       "      <td>Month-to-month</td>\n",
       "      <td>Yes</td>\n",
       "      <td>Electronic check</td>\n",
       "      <td>50.75</td>\n",
       "      <td>50.75</td>\n",
       "      <td>Yes</td>\n",
       "    </tr>\n",
       "    <tr>\n",
       "      <th>6805</th>\n",
       "      <td>4323-OHFOW</td>\n",
       "      <td>Female</td>\n",
       "      <td>1</td>\n",
       "      <td>Yes</td>\n",
       "      <td>No</td>\n",
       "      <td>70</td>\n",
       "      <td>Yes</td>\n",
       "      <td>Yes</td>\n",
       "      <td>Fiber optic</td>\n",
       "      <td>No</td>\n",
       "      <td>...</td>\n",
       "      <td>No</td>\n",
       "      <td>Yes</td>\n",
       "      <td>Yes</td>\n",
       "      <td>Yes</td>\n",
       "      <td>One year</td>\n",
       "      <td>Yes</td>\n",
       "      <td>Bank transfer (automatic)</td>\n",
       "      <td>105.55</td>\n",
       "      <td>7195.35</td>\n",
       "      <td>No</td>\n",
       "    </tr>\n",
       "  </tbody>\n",
       "</table>\n",
       "<p>5 rows × 21 columns</p>\n",
       "</div>"
      ],
      "text/plain": [
       "      customerID  gender  SeniorCitizen Partner Dependents  tenure  \\\n",
       "5637  4423-JWZJN    Male              0     Yes        Yes      64   \n",
       "4207  8706-HRADD    Male              0      No         No      21   \n",
       "6839  4078-SAYYN  Female              0      No         No      11   \n",
       "3565  4317-VTEOA    Male              0      No         No       1   \n",
       "6805  4323-OHFOW  Female              1     Yes         No      70   \n",
       "\n",
       "     PhoneService     MultipleLines InternetService OnlineSecurity  ...  \\\n",
       "5637          Yes               Yes     Fiber optic             No  ...   \n",
       "4207           No  No phone service             DSL            Yes  ...   \n",
       "6839          Yes               Yes     Fiber optic             No  ...   \n",
       "3565          Yes                No             DSL             No  ...   \n",
       "6805          Yes               Yes     Fiber optic             No  ...   \n",
       "\n",
       "     DeviceProtection TechSupport StreamingTV StreamingMovies        Contract  \\\n",
       "5637              Yes          No          No             Yes        One year   \n",
       "4207               No         Yes         Yes              No  Month-to-month   \n",
       "6839              Yes          No         Yes             Yes  Month-to-month   \n",
       "3565               No          No          No              No  Month-to-month   \n",
       "6805               No         Yes         Yes             Yes        One year   \n",
       "\n",
       "     PaperlessBilling              PaymentMethod MonthlyCharges  TotalCharges  \\\n",
       "5637               No    Credit card (automatic)          90.25       5629.15   \n",
       "4207              Yes               Mailed check          43.55        1011.5   \n",
       "6839              Yes           Electronic check         100.75       1129.75   \n",
       "3565              Yes           Electronic check          50.75         50.75   \n",
       "6805              Yes  Bank transfer (automatic)         105.55       7195.35   \n",
       "\n",
       "     Churn  \n",
       "5637    No  \n",
       "4207    No  \n",
       "6839   Yes  \n",
       "3565   Yes  \n",
       "6805    No  \n",
       "\n",
       "[5 rows x 21 columns]"
      ]
     },
     "execution_count": 2,
     "metadata": {},
     "output_type": "execute_result"
    }
   ],
   "source": [
    "df = pd.read_csv(\"customer_churn.csv\")\n",
    "df.sample(5)"
   ]
  },
  {
   "cell_type": "code",
   "execution_count": 3,
   "id": "6fbd821a-a06d-4ebb-8a7d-1ca8b2d37fe1",
   "metadata": {},
   "outputs": [],
   "source": [
    "df.drop('customerID',axis='columns',inplace=True)"
   ]
  },
  {
   "cell_type": "code",
   "execution_count": 4,
   "id": "c3771e08-cc7f-42b5-9ab7-088949ff1d66",
   "metadata": {},
   "outputs": [
    {
     "data": {
      "text/plain": [
       "gender               object\n",
       "SeniorCitizen         int64\n",
       "Partner              object\n",
       "Dependents           object\n",
       "tenure                int64\n",
       "PhoneService         object\n",
       "MultipleLines        object\n",
       "InternetService      object\n",
       "OnlineSecurity       object\n",
       "OnlineBackup         object\n",
       "DeviceProtection     object\n",
       "TechSupport          object\n",
       "StreamingTV          object\n",
       "StreamingMovies      object\n",
       "Contract             object\n",
       "PaperlessBilling     object\n",
       "PaymentMethod        object\n",
       "MonthlyCharges      float64\n",
       "TotalCharges         object\n",
       "Churn                object\n",
       "dtype: object"
      ]
     },
     "execution_count": 4,
     "metadata": {},
     "output_type": "execute_result"
    }
   ],
   "source": [
    "df.dtypes"
   ]
  },
  {
   "cell_type": "code",
   "execution_count": 5,
   "id": "0af060be-7b98-421b-a3f7-9764cd162dba",
   "metadata": {},
   "outputs": [
    {
     "data": {
      "text/plain": [
       "array(['29.85', '1889.5', '108.15', ..., '346.45', '306.6', '6844.5'],\n",
       "      dtype=object)"
      ]
     },
     "execution_count": 5,
     "metadata": {},
     "output_type": "execute_result"
    }
   ],
   "source": [
    "df.TotalCharges.values"
   ]
  },
  {
   "cell_type": "code",
   "execution_count": 6,
   "id": "4545f2ac-206c-4f85-8ca6-af313a88d1af",
   "metadata": {},
   "outputs": [],
   "source": [
    "# df['TotalCharges'] = df['TotalCharges'].apply(lambda x: x.strip() if isinstance(x, str) else x)"
   ]
  },
  {
   "cell_type": "code",
   "execution_count": 7,
   "id": "72ede9d6-fbc7-41b0-b1cb-3ae71d278124",
   "metadata": {},
   "outputs": [
    {
     "data": {
      "text/plain": [
       "0         29.85\n",
       "1       1889.50\n",
       "2        108.15\n",
       "3       1840.75\n",
       "4        151.65\n",
       "         ...   \n",
       "7038    1990.50\n",
       "7039    7362.90\n",
       "7040     346.45\n",
       "7041     306.60\n",
       "7042    6844.50\n",
       "Name: TotalCharges, Length: 7043, dtype: float64"
      ]
     },
     "execution_count": 7,
     "metadata": {},
     "output_type": "execute_result"
    }
   ],
   "source": [
    "pd.to_numeric(df.TotalCharges,errors='coerce')"
   ]
  },
  {
   "cell_type": "code",
   "execution_count": 8,
   "id": "a09caf50-c9c8-4464-8513-0e0350e8777f",
   "metadata": {},
   "outputs": [
    {
     "data": {
      "text/plain": [
       "0       False\n",
       "1       False\n",
       "2       False\n",
       "3       False\n",
       "4       False\n",
       "        ...  \n",
       "7038    False\n",
       "7039    False\n",
       "7040    False\n",
       "7041    False\n",
       "7042    False\n",
       "Name: TotalCharges, Length: 7043, dtype: bool"
      ]
     },
     "execution_count": 8,
     "metadata": {},
     "output_type": "execute_result"
    }
   ],
   "source": [
    "pd.to_numeric(df.TotalCharges,errors='coerce').isnull()"
   ]
  },
  {
   "cell_type": "code",
   "execution_count": 9,
   "id": "f1a7c1d6-2e8b-4510-a7e8-9c5ac9ba9505",
   "metadata": {},
   "outputs": [
    {
     "data": {
      "text/html": [
       "<div>\n",
       "<style scoped>\n",
       "    .dataframe tbody tr th:only-of-type {\n",
       "        vertical-align: middle;\n",
       "    }\n",
       "\n",
       "    .dataframe tbody tr th {\n",
       "        vertical-align: top;\n",
       "    }\n",
       "\n",
       "    .dataframe thead th {\n",
       "        text-align: right;\n",
       "    }\n",
       "</style>\n",
       "<table border=\"1\" class=\"dataframe\">\n",
       "  <thead>\n",
       "    <tr style=\"text-align: right;\">\n",
       "      <th></th>\n",
       "      <th>gender</th>\n",
       "      <th>SeniorCitizen</th>\n",
       "      <th>Partner</th>\n",
       "      <th>Dependents</th>\n",
       "      <th>tenure</th>\n",
       "      <th>PhoneService</th>\n",
       "      <th>MultipleLines</th>\n",
       "      <th>InternetService</th>\n",
       "      <th>OnlineSecurity</th>\n",
       "      <th>OnlineBackup</th>\n",
       "      <th>DeviceProtection</th>\n",
       "      <th>TechSupport</th>\n",
       "      <th>StreamingTV</th>\n",
       "      <th>StreamingMovies</th>\n",
       "      <th>Contract</th>\n",
       "      <th>PaperlessBilling</th>\n",
       "      <th>PaymentMethod</th>\n",
       "      <th>MonthlyCharges</th>\n",
       "      <th>TotalCharges</th>\n",
       "      <th>Churn</th>\n",
       "    </tr>\n",
       "  </thead>\n",
       "  <tbody>\n",
       "    <tr>\n",
       "      <th>488</th>\n",
       "      <td>Female</td>\n",
       "      <td>0</td>\n",
       "      <td>Yes</td>\n",
       "      <td>Yes</td>\n",
       "      <td>0</td>\n",
       "      <td>No</td>\n",
       "      <td>No phone service</td>\n",
       "      <td>DSL</td>\n",
       "      <td>Yes</td>\n",
       "      <td>No</td>\n",
       "      <td>Yes</td>\n",
       "      <td>Yes</td>\n",
       "      <td>Yes</td>\n",
       "      <td>No</td>\n",
       "      <td>Two year</td>\n",
       "      <td>Yes</td>\n",
       "      <td>Bank transfer (automatic)</td>\n",
       "      <td>52.55</td>\n",
       "      <td></td>\n",
       "      <td>No</td>\n",
       "    </tr>\n",
       "    <tr>\n",
       "      <th>753</th>\n",
       "      <td>Male</td>\n",
       "      <td>0</td>\n",
       "      <td>No</td>\n",
       "      <td>Yes</td>\n",
       "      <td>0</td>\n",
       "      <td>Yes</td>\n",
       "      <td>No</td>\n",
       "      <td>No</td>\n",
       "      <td>No internet service</td>\n",
       "      <td>No internet service</td>\n",
       "      <td>No internet service</td>\n",
       "      <td>No internet service</td>\n",
       "      <td>No internet service</td>\n",
       "      <td>No internet service</td>\n",
       "      <td>Two year</td>\n",
       "      <td>No</td>\n",
       "      <td>Mailed check</td>\n",
       "      <td>20.25</td>\n",
       "      <td></td>\n",
       "      <td>No</td>\n",
       "    </tr>\n",
       "    <tr>\n",
       "      <th>936</th>\n",
       "      <td>Female</td>\n",
       "      <td>0</td>\n",
       "      <td>Yes</td>\n",
       "      <td>Yes</td>\n",
       "      <td>0</td>\n",
       "      <td>Yes</td>\n",
       "      <td>No</td>\n",
       "      <td>DSL</td>\n",
       "      <td>Yes</td>\n",
       "      <td>Yes</td>\n",
       "      <td>Yes</td>\n",
       "      <td>No</td>\n",
       "      <td>Yes</td>\n",
       "      <td>Yes</td>\n",
       "      <td>Two year</td>\n",
       "      <td>No</td>\n",
       "      <td>Mailed check</td>\n",
       "      <td>80.85</td>\n",
       "      <td></td>\n",
       "      <td>No</td>\n",
       "    </tr>\n",
       "    <tr>\n",
       "      <th>1082</th>\n",
       "      <td>Male</td>\n",
       "      <td>0</td>\n",
       "      <td>Yes</td>\n",
       "      <td>Yes</td>\n",
       "      <td>0</td>\n",
       "      <td>Yes</td>\n",
       "      <td>Yes</td>\n",
       "      <td>No</td>\n",
       "      <td>No internet service</td>\n",
       "      <td>No internet service</td>\n",
       "      <td>No internet service</td>\n",
       "      <td>No internet service</td>\n",
       "      <td>No internet service</td>\n",
       "      <td>No internet service</td>\n",
       "      <td>Two year</td>\n",
       "      <td>No</td>\n",
       "      <td>Mailed check</td>\n",
       "      <td>25.75</td>\n",
       "      <td></td>\n",
       "      <td>No</td>\n",
       "    </tr>\n",
       "    <tr>\n",
       "      <th>1340</th>\n",
       "      <td>Female</td>\n",
       "      <td>0</td>\n",
       "      <td>Yes</td>\n",
       "      <td>Yes</td>\n",
       "      <td>0</td>\n",
       "      <td>No</td>\n",
       "      <td>No phone service</td>\n",
       "      <td>DSL</td>\n",
       "      <td>Yes</td>\n",
       "      <td>Yes</td>\n",
       "      <td>Yes</td>\n",
       "      <td>Yes</td>\n",
       "      <td>Yes</td>\n",
       "      <td>No</td>\n",
       "      <td>Two year</td>\n",
       "      <td>No</td>\n",
       "      <td>Credit card (automatic)</td>\n",
       "      <td>56.05</td>\n",
       "      <td></td>\n",
       "      <td>No</td>\n",
       "    </tr>\n",
       "    <tr>\n",
       "      <th>3331</th>\n",
       "      <td>Male</td>\n",
       "      <td>0</td>\n",
       "      <td>Yes</td>\n",
       "      <td>Yes</td>\n",
       "      <td>0</td>\n",
       "      <td>Yes</td>\n",
       "      <td>No</td>\n",
       "      <td>No</td>\n",
       "      <td>No internet service</td>\n",
       "      <td>No internet service</td>\n",
       "      <td>No internet service</td>\n",
       "      <td>No internet service</td>\n",
       "      <td>No internet service</td>\n",
       "      <td>No internet service</td>\n",
       "      <td>Two year</td>\n",
       "      <td>No</td>\n",
       "      <td>Mailed check</td>\n",
       "      <td>19.85</td>\n",
       "      <td></td>\n",
       "      <td>No</td>\n",
       "    </tr>\n",
       "    <tr>\n",
       "      <th>3826</th>\n",
       "      <td>Male</td>\n",
       "      <td>0</td>\n",
       "      <td>Yes</td>\n",
       "      <td>Yes</td>\n",
       "      <td>0</td>\n",
       "      <td>Yes</td>\n",
       "      <td>Yes</td>\n",
       "      <td>No</td>\n",
       "      <td>No internet service</td>\n",
       "      <td>No internet service</td>\n",
       "      <td>No internet service</td>\n",
       "      <td>No internet service</td>\n",
       "      <td>No internet service</td>\n",
       "      <td>No internet service</td>\n",
       "      <td>Two year</td>\n",
       "      <td>No</td>\n",
       "      <td>Mailed check</td>\n",
       "      <td>25.35</td>\n",
       "      <td></td>\n",
       "      <td>No</td>\n",
       "    </tr>\n",
       "    <tr>\n",
       "      <th>4380</th>\n",
       "      <td>Female</td>\n",
       "      <td>0</td>\n",
       "      <td>Yes</td>\n",
       "      <td>Yes</td>\n",
       "      <td>0</td>\n",
       "      <td>Yes</td>\n",
       "      <td>No</td>\n",
       "      <td>No</td>\n",
       "      <td>No internet service</td>\n",
       "      <td>No internet service</td>\n",
       "      <td>No internet service</td>\n",
       "      <td>No internet service</td>\n",
       "      <td>No internet service</td>\n",
       "      <td>No internet service</td>\n",
       "      <td>Two year</td>\n",
       "      <td>No</td>\n",
       "      <td>Mailed check</td>\n",
       "      <td>20.00</td>\n",
       "      <td></td>\n",
       "      <td>No</td>\n",
       "    </tr>\n",
       "    <tr>\n",
       "      <th>5218</th>\n",
       "      <td>Male</td>\n",
       "      <td>0</td>\n",
       "      <td>Yes</td>\n",
       "      <td>Yes</td>\n",
       "      <td>0</td>\n",
       "      <td>Yes</td>\n",
       "      <td>No</td>\n",
       "      <td>No</td>\n",
       "      <td>No internet service</td>\n",
       "      <td>No internet service</td>\n",
       "      <td>No internet service</td>\n",
       "      <td>No internet service</td>\n",
       "      <td>No internet service</td>\n",
       "      <td>No internet service</td>\n",
       "      <td>One year</td>\n",
       "      <td>Yes</td>\n",
       "      <td>Mailed check</td>\n",
       "      <td>19.70</td>\n",
       "      <td></td>\n",
       "      <td>No</td>\n",
       "    </tr>\n",
       "    <tr>\n",
       "      <th>6670</th>\n",
       "      <td>Female</td>\n",
       "      <td>0</td>\n",
       "      <td>Yes</td>\n",
       "      <td>Yes</td>\n",
       "      <td>0</td>\n",
       "      <td>Yes</td>\n",
       "      <td>Yes</td>\n",
       "      <td>DSL</td>\n",
       "      <td>No</td>\n",
       "      <td>Yes</td>\n",
       "      <td>Yes</td>\n",
       "      <td>Yes</td>\n",
       "      <td>Yes</td>\n",
       "      <td>No</td>\n",
       "      <td>Two year</td>\n",
       "      <td>No</td>\n",
       "      <td>Mailed check</td>\n",
       "      <td>73.35</td>\n",
       "      <td></td>\n",
       "      <td>No</td>\n",
       "    </tr>\n",
       "    <tr>\n",
       "      <th>6754</th>\n",
       "      <td>Male</td>\n",
       "      <td>0</td>\n",
       "      <td>No</td>\n",
       "      <td>Yes</td>\n",
       "      <td>0</td>\n",
       "      <td>Yes</td>\n",
       "      <td>Yes</td>\n",
       "      <td>DSL</td>\n",
       "      <td>Yes</td>\n",
       "      <td>Yes</td>\n",
       "      <td>No</td>\n",
       "      <td>Yes</td>\n",
       "      <td>No</td>\n",
       "      <td>No</td>\n",
       "      <td>Two year</td>\n",
       "      <td>Yes</td>\n",
       "      <td>Bank transfer (automatic)</td>\n",
       "      <td>61.90</td>\n",
       "      <td></td>\n",
       "      <td>No</td>\n",
       "    </tr>\n",
       "  </tbody>\n",
       "</table>\n",
       "</div>"
      ],
      "text/plain": [
       "      gender  SeniorCitizen Partner Dependents  tenure PhoneService  \\\n",
       "488   Female              0     Yes        Yes       0           No   \n",
       "753     Male              0      No        Yes       0          Yes   \n",
       "936   Female              0     Yes        Yes       0          Yes   \n",
       "1082    Male              0     Yes        Yes       0          Yes   \n",
       "1340  Female              0     Yes        Yes       0           No   \n",
       "3331    Male              0     Yes        Yes       0          Yes   \n",
       "3826    Male              0     Yes        Yes       0          Yes   \n",
       "4380  Female              0     Yes        Yes       0          Yes   \n",
       "5218    Male              0     Yes        Yes       0          Yes   \n",
       "6670  Female              0     Yes        Yes       0          Yes   \n",
       "6754    Male              0      No        Yes       0          Yes   \n",
       "\n",
       "         MultipleLines InternetService       OnlineSecurity  \\\n",
       "488   No phone service             DSL                  Yes   \n",
       "753                 No              No  No internet service   \n",
       "936                 No             DSL                  Yes   \n",
       "1082               Yes              No  No internet service   \n",
       "1340  No phone service             DSL                  Yes   \n",
       "3331                No              No  No internet service   \n",
       "3826               Yes              No  No internet service   \n",
       "4380                No              No  No internet service   \n",
       "5218                No              No  No internet service   \n",
       "6670               Yes             DSL                   No   \n",
       "6754               Yes             DSL                  Yes   \n",
       "\n",
       "             OnlineBackup     DeviceProtection          TechSupport  \\\n",
       "488                    No                  Yes                  Yes   \n",
       "753   No internet service  No internet service  No internet service   \n",
       "936                   Yes                  Yes                   No   \n",
       "1082  No internet service  No internet service  No internet service   \n",
       "1340                  Yes                  Yes                  Yes   \n",
       "3331  No internet service  No internet service  No internet service   \n",
       "3826  No internet service  No internet service  No internet service   \n",
       "4380  No internet service  No internet service  No internet service   \n",
       "5218  No internet service  No internet service  No internet service   \n",
       "6670                  Yes                  Yes                  Yes   \n",
       "6754                  Yes                   No                  Yes   \n",
       "\n",
       "              StreamingTV      StreamingMovies  Contract PaperlessBilling  \\\n",
       "488                   Yes                   No  Two year              Yes   \n",
       "753   No internet service  No internet service  Two year               No   \n",
       "936                   Yes                  Yes  Two year               No   \n",
       "1082  No internet service  No internet service  Two year               No   \n",
       "1340                  Yes                   No  Two year               No   \n",
       "3331  No internet service  No internet service  Two year               No   \n",
       "3826  No internet service  No internet service  Two year               No   \n",
       "4380  No internet service  No internet service  Two year               No   \n",
       "5218  No internet service  No internet service  One year              Yes   \n",
       "6670                  Yes                   No  Two year               No   \n",
       "6754                   No                   No  Two year              Yes   \n",
       "\n",
       "                  PaymentMethod  MonthlyCharges TotalCharges Churn  \n",
       "488   Bank transfer (automatic)           52.55                 No  \n",
       "753                Mailed check           20.25                 No  \n",
       "936                Mailed check           80.85                 No  \n",
       "1082               Mailed check           25.75                 No  \n",
       "1340    Credit card (automatic)           56.05                 No  \n",
       "3331               Mailed check           19.85                 No  \n",
       "3826               Mailed check           25.35                 No  \n",
       "4380               Mailed check           20.00                 No  \n",
       "5218               Mailed check           19.70                 No  \n",
       "6670               Mailed check           73.35                 No  \n",
       "6754  Bank transfer (automatic)           61.90                 No  "
      ]
     },
     "execution_count": 9,
     "metadata": {},
     "output_type": "execute_result"
    }
   ],
   "source": [
    "df[pd.to_numeric(df.TotalCharges,errors='coerce').isnull()]"
   ]
  },
  {
   "cell_type": "code",
   "execution_count": 10,
   "id": "aad1c619-8d70-425f-a0f9-15b487434ba1",
   "metadata": {},
   "outputs": [
    {
     "data": {
      "text/plain": [
       "(11, 20)"
      ]
     },
     "execution_count": 10,
     "metadata": {},
     "output_type": "execute_result"
    }
   ],
   "source": [
    "df[pd.to_numeric(df.TotalCharges,errors='coerce').isnull()].shape"
   ]
  },
  {
   "cell_type": "code",
   "execution_count": 11,
   "id": "065e1445-c2f0-4cbb-8725-68a1b06cdd95",
   "metadata": {},
   "outputs": [
    {
     "data": {
      "text/plain": [
       "(7043, 20)"
      ]
     },
     "execution_count": 11,
     "metadata": {},
     "output_type": "execute_result"
    }
   ],
   "source": [
    "df.shape"
   ]
  },
  {
   "cell_type": "code",
   "execution_count": 15,
   "id": "dab8b198-7626-4473-8ac2-dd338a2e2859",
   "metadata": {},
   "outputs": [],
   "source": [
    "df1 = df[df.TotalCharges!=' ']"
   ]
  },
  {
   "cell_type": "code",
   "execution_count": 16,
   "id": "f44a5f7c-4381-442d-b9b3-c1820b53f2cc",
   "metadata": {},
   "outputs": [
    {
     "data": {
      "text/plain": [
       "(7032, 20)"
      ]
     },
     "execution_count": 16,
     "metadata": {},
     "output_type": "execute_result"
    }
   ],
   "source": [
    "df1.shape"
   ]
  },
  {
   "cell_type": "code",
   "execution_count": 17,
   "id": "d6fda6a7-f38d-4ece-8041-d2ada78a7da6",
   "metadata": {},
   "outputs": [
    {
     "name": "stderr",
     "output_type": "stream",
     "text": [
      "C:\\Users\\sinan\\AppData\\Local\\Temp\\ipykernel_3248\\973151263.py:1: SettingWithCopyWarning: \n",
      "A value is trying to be set on a copy of a slice from a DataFrame.\n",
      "Try using .loc[row_indexer,col_indexer] = value instead\n",
      "\n",
      "See the caveats in the documentation: https://pandas.pydata.org/pandas-docs/stable/user_guide/indexing.html#returning-a-view-versus-a-copy\n",
      "  df1.TotalCharges = pd.to_numeric(df1.TotalCharges)\n"
     ]
    }
   ],
   "source": [
    "df1.TotalCharges = pd.to_numeric(df1.TotalCharges)"
   ]
  },
  {
   "cell_type": "code",
   "execution_count": 18,
   "id": "29453f99-842d-4b10-8162-996aeab68fea",
   "metadata": {},
   "outputs": [
    {
     "data": {
      "text/plain": [
       "dtype('float64')"
      ]
     },
     "execution_count": 18,
     "metadata": {},
     "output_type": "execute_result"
    }
   ],
   "source": [
    "df1.TotalCharges.dtypes"
   ]
  },
  {
   "cell_type": "code",
   "execution_count": 19,
   "id": "91913ead-b6b1-4bd4-ba5d-267d63692d95",
   "metadata": {},
   "outputs": [
    {
     "data": {
      "text/plain": [
       "Text(0, 0.5, 'No. of customers')"
      ]
     },
     "execution_count": 19,
     "metadata": {},
     "output_type": "execute_result"
    },
    {
     "data": {
      "image/png": "[encoded data removed]",
      "text/plain": [
       "<Figure size 640x480 with 1 Axes>"
      ]
     },
     "metadata": {},
     "output_type": "display_data"
    }
   ],
   "source": [
    "tenure_churn_no = df1[df1.Churn=='No'].tenure\n",
    "tenure_churn_yes = df1[df1.Churn=='Yes'].tenure\n",
    "plt.hist([tenure_churn_yes, tenure_churn_no],color=['green', 'red'],label=['Churn=Yes', 'Churn=No'])\n",
    "plt.legend()\n",
    "plt.title(\"Churn Prediction Visualization\")\n",
    "plt.xlabel(\"tenure\")\n",
    "plt.ylabel(\"No. of customers\")"
   ]
  },
  {
   "cell_type": "code",
   "execution_count": 20,
   "id": "f9fd019a-1622-4a44-84bd-b1fce7eb067e",
   "metadata": {},
   "outputs": [
    {
     "data": {
      "text/plain": [
       "Text(0, 0.5, 'No. of customers')"
      ]
     },
     "execution_count": 20,
     "metadata": {},
     "output_type": "execute_result"
    },
    {
     "data": {
      "image/png": "[encoded data removed]",
      "text/plain": [
       "<Figure size 640x480 with 1 Axes>"
      ]
     },
     "metadata": {},
     "output_type": "display_data"
    }
   ],
   "source": [
    "mc_churn_no = df1[df1.Churn=='No'].MonthlyCharges\n",
    "mc_churn_yes = df1[df1.Churn=='Yes'].MonthlyCharges\n",
    "plt.hist([mc_churn_yes, mc_churn_no],color=['green', 'red'],label=['Churn=Yes', 'Churn=No'])\n",
    "plt.legend()\n",
    "plt.title(\"Churn Prediction Visualization\")\n",
    "plt.xlabel(\"Monthly Charges\")\n",
    "plt.ylabel(\"No. of customers\")"
   ]
  },
  {
   "cell_type": "code",
   "execution_count": 21,
   "id": "847eb309-a9e9-4136-9ce2-d157c6c2a916",
   "metadata": {},
   "outputs": [],
   "source": [
    "def print_unique_col_values(df):\n",
    "    for col in df:\n",
    "        if df[col].dtypes == 'object':\n",
    "            print(f\"{col} : unique values -> {df[col].unique()}\")"
   ]
  },
  {
   "cell_type": "code",
   "execution_count": 22,
   "id": "2ae38caa-fb4c-4319-a4e1-f9132ea62d30",
   "metadata": {},
   "outputs": [
    {
     "name": "stdout",
     "output_type": "stream",
     "text": [
      "gender : unique values -> ['Female' 'Male']\n",
      "Partner : unique values -> ['Yes' 'No']\n",
      "Dependents : unique values -> ['No' 'Yes']\n",
      "PhoneService : unique values -> ['No' 'Yes']\n",
      "MultipleLines : unique values -> ['No phone service' 'No' 'Yes']\n",
      "InternetService : unique values -> ['DSL' 'Fiber optic' 'No']\n",
      "OnlineSecurity : unique values -> ['No' 'Yes' 'No internet service']\n",
      "OnlineBackup : unique values -> ['Yes' 'No' 'No internet service']\n",
      "DeviceProtection : unique values -> ['No' 'Yes' 'No internet service']\n",
      "TechSupport : unique values -> ['No' 'Yes' 'No internet service']\n",
      "StreamingTV : unique values -> ['No' 'Yes' 'No internet service']\n",
      "StreamingMovies : unique values -> ['No' 'Yes' 'No internet service']\n",
      "Contract : unique values -> ['Month-to-month' 'One year' 'Two year']\n",
      "PaperlessBilling : unique values -> ['Yes' 'No']\n",
      "PaymentMethod : unique values -> ['Electronic check' 'Mailed check' 'Bank transfer (automatic)'\n",
      " 'Credit card (automatic)']\n",
      "Churn : unique values -> ['No' 'Yes']\n"
     ]
    }
   ],
   "source": [
    "print_unique_col_values(df1)"
   ]
  },
  {
   "cell_type": "code",
   "execution_count": 23,
   "id": "79a85aed-2cd4-4dd1-a42f-03b0e5518abe",
   "metadata": {},
   "outputs": [
    {
     "name": "stderr",
     "output_type": "stream",
     "text": [
      "C:\\Users\\sinan\\AppData\\Local\\Temp\\ipykernel_3248\\3221983738.py:1: SettingWithCopyWarning: \n",
      "A value is trying to be set on a copy of a slice from a DataFrame\n",
      "\n",
      "See the caveats in the documentation: https://pandas.pydata.org/pandas-docs/stable/user_guide/indexing.html#returning-a-view-versus-a-copy\n",
      "  df1.replace('No phone service','No',inplace=True)\n",
      "C:\\Users\\sinan\\AppData\\Local\\Temp\\ipykernel_3248\\3221983738.py:2: SettingWithCopyWarning: \n",
      "A value is trying to be set on a copy of a slice from a DataFrame\n",
      "\n",
      "See the caveats in the documentation: https://pandas.pydata.org/pandas-docs/stable/user_guide/indexing.html#returning-a-view-versus-a-copy\n",
      "  df1.replace('No internet service','No',inplace=True)\n"
     ]
    }
   ],
   "source": [
    "df1.replace('No phone service','No',inplace=True)\n",
    "df1.replace('No internet service','No',inplace=True)"
   ]
  },
  {
   "cell_type": "code",
   "execution_count": 24,
   "id": "5742e6eb-1646-4242-8d4c-d79da708a4f0",
   "metadata": {},
   "outputs": [
    {
     "name": "stdout",
     "output_type": "stream",
     "text": [
      "gender : unique values -> ['Female' 'Male']\n",
      "Partner : unique values -> ['Yes' 'No']\n",
      "Dependents : unique values -> ['No' 'Yes']\n",
      "PhoneService : unique values -> ['No' 'Yes']\n",
      "MultipleLines : unique values -> ['No' 'Yes']\n",
      "InternetService : unique values -> ['DSL' 'Fiber optic' 'No']\n",
      "OnlineSecurity : unique values -> ['No' 'Yes']\n",
      "OnlineBackup : unique values -> ['Yes' 'No']\n",
      "DeviceProtection : unique values -> ['No' 'Yes']\n",
      "TechSupport : unique values -> ['No' 'Yes']\n",
      "StreamingTV : unique values -> ['No' 'Yes']\n",
      "StreamingMovies : unique values -> ['No' 'Yes']\n",
      "Contract : unique values -> ['Month-to-month' 'One year' 'Two year']\n",
      "PaperlessBilling : unique values -> ['Yes' 'No']\n",
      "PaymentMethod : unique values -> ['Electronic check' 'Mailed check' 'Bank transfer (automatic)'\n",
      " 'Credit card (automatic)']\n",
      "Churn : unique values -> ['No' 'Yes']\n"
     ]
    }
   ],
   "source": [
    "print_unique_col_values(df1)"
   ]
  },
  {
   "cell_type": "code",
   "execution_count": 25,
   "id": "19408cbe-dc43-4fe5-b123-9a0c6dec1e85",
   "metadata": {},
   "outputs": [],
   "source": [
    "yes_no_columns = df1.columns[df1.nunique() == 2]\n",
    "yes_no_columns = yes_no_columns.drop(['gender','SeniorCitizen'])"
   ]
  },
  {
   "cell_type": "code",
   "execution_count": 26,
   "id": "6f20e616-07f2-4201-ab12-8729b8b4aec1",
   "metadata": {},
   "outputs": [
    {
     "data": {
      "text/plain": [
       "(12,)"
      ]
     },
     "execution_count": 26,
     "metadata": {},
     "output_type": "execute_result"
    }
   ],
   "source": [
    "yes_no_columns.shape"
   ]
  },
  {
   "cell_type": "code",
   "execution_count": 27,
   "id": "266e8be9-86ef-4c99-99d1-62941afcca2e",
   "metadata": {},
   "outputs": [
    {
     "name": "stderr",
     "output_type": "stream",
     "text": [
      "C:\\Users\\sinan\\AppData\\Local\\Temp\\ipykernel_3248\\3257780336.py:2: FutureWarning: A value is trying to be set on a copy of a DataFrame or Series through chained assignment using an inplace method.\n",
      "The behavior will change in pandas 3.0. This inplace method will never work because the intermediate object on which we are setting values always behaves as a copy.\n",
      "\n",
      "For example, when doing 'df[col].method(value, inplace=True)', try using 'df.method({col: value}, inplace=True)' or df[col] = df[col].method(value) instead, to perform the operation inplace on the original object.\n",
      "\n",
      "\n",
      "  df1[col].replace({'Yes' : 1, 'No': 0},inplace=True)\n",
      "C:\\Users\\sinan\\AppData\\Local\\Temp\\ipykernel_3248\\3257780336.py:2: FutureWarning: Downcasting behavior in `replace` is deprecated and will be removed in a future version. To retain the old behavior, explicitly call `result.infer_objects(copy=False)`. To opt-in to the future behavior, set `pd.set_option('future.no_silent_downcasting', True)`\n",
      "  df1[col].replace({'Yes' : 1, 'No': 0},inplace=True)\n",
      "C:\\Users\\sinan\\AppData\\Local\\Temp\\ipykernel_3248\\3257780336.py:2: SettingWithCopyWarning: \n",
      "A value is trying to be set on a copy of a slice from a DataFrame\n",
      "\n",
      "See the caveats in the documentation: https://pandas.pydata.org/pandas-docs/stable/user_guide/indexing.html#returning-a-view-versus-a-copy\n",
      "  df1[col].replace({'Yes' : 1, 'No': 0},inplace=True)\n"
     ]
    }
   ],
   "source": [
    "for col in yes_no_columns:\n",
    "    df1[col].replace({'Yes' : 1, 'No': 0},inplace=True)"
   ]
  },
  {
   "cell_type": "code",
   "execution_count": 28,
   "id": "dea67834-f09e-4565-b093-c35a1c6c5af8",
   "metadata": {},
   "outputs": [
    {
     "name": "stdout",
     "output_type": "stream",
     "text": [
      "['Female' 'Male']\n",
      "[0 1]\n",
      "[1 0]\n",
      "[0 1]\n",
      "[ 1 34  2 45  8 22 10 28 62 13 16 58 49 25 69 52 71 21 12 30 47 72 17 27\n",
      "  5 46 11 70 63 43 15 60 18 66  9  3 31 50 64 56  7 42 35 48 29 65 38 68\n",
      " 32 55 37 36 41  6  4 33 67 23 57 61 14 20 53 40 59 24 44 19 54 51 26 39]\n",
      "[0 1]\n",
      "[0 1]\n",
      "['DSL' 'Fiber optic' 'No']\n",
      "[0 1]\n",
      "[1 0]\n",
      "[0 1]\n",
      "[0 1]\n",
      "[0 1]\n",
      "[0 1]\n",
      "['Month-to-month' 'One year' 'Two year']\n",
      "[1 0]\n",
      "['Electronic check' 'Mailed check' 'Bank transfer (automatic)'\n",
      " 'Credit card (automatic)']\n",
      "[29.85 56.95 53.85 ... 63.1  44.2  78.7 ]\n",
      "[  29.85 1889.5   108.15 ...  346.45  306.6  6844.5 ]\n",
      "[0 1]\n"
     ]
    }
   ],
   "source": [
    "for col in df1:\n",
    "    print(df1[col].unique())"
   ]
  },
  {
   "cell_type": "code",
   "execution_count": 29,
   "id": "58811d1a-798a-43ad-9595-cbb848ccf552",
   "metadata": {},
   "outputs": [
    {
     "name": "stderr",
     "output_type": "stream",
     "text": [
      "C:\\Users\\sinan\\AppData\\Local\\Temp\\ipykernel_3248\\1794963026.py:1: FutureWarning: A value is trying to be set on a copy of a DataFrame or Series through chained assignment using an inplace method.\n",
      "The behavior will change in pandas 3.0. This inplace method will never work because the intermediate object on which we are setting values always behaves as a copy.\n",
      "\n",
      "For example, when doing 'df[col].method(value, inplace=True)', try using 'df.method({col: value}, inplace=True)' or df[col] = df[col].method(value) instead, to perform the operation inplace on the original object.\n",
      "\n",
      "\n",
      "  df1['gender'].replace({'Female': 1, 'Male': 0},inplace= True)\n",
      "C:\\Users\\sinan\\AppData\\Local\\Temp\\ipykernel_3248\\1794963026.py:1: FutureWarning: Downcasting behavior in `replace` is deprecated and will be removed in a future version. To retain the old behavior, explicitly call `result.infer_objects(copy=False)`. To opt-in to the future behavior, set `pd.set_option('future.no_silent_downcasting', True)`\n",
      "  df1['gender'].replace({'Female': 1, 'Male': 0},inplace= True)\n",
      "C:\\Users\\sinan\\AppData\\Local\\Temp\\ipykernel_3248\\1794963026.py:1: SettingWithCopyWarning: \n",
      "A value is trying to be set on a copy of a slice from a DataFrame\n",
      "\n",
      "See the caveats in the documentation: https://pandas.pydata.org/pandas-docs/stable/user_guide/indexing.html#returning-a-view-versus-a-copy\n",
      "  df1['gender'].replace({'Female': 1, 'Male': 0},inplace= True)\n"
     ]
    }
   ],
   "source": [
    "df1['gender'].replace({'Female': 1, 'Male': 0},inplace= True)"
   ]
  },
  {
   "cell_type": "code",
   "execution_count": 30,
   "id": "9cc69e17-4547-4112-baaf-f4dd9dc7828f",
   "metadata": {},
   "outputs": [
    {
     "data": {
      "text/plain": [
       "array([1, 0], dtype=int64)"
      ]
     },
     "execution_count": 30,
     "metadata": {},
     "output_type": "execute_result"
    }
   ],
   "source": [
    "df1['gender'].unique()"
   ]
  },
  {
   "cell_type": "code",
   "execution_count": 31,
   "id": "f3ca05d0-ec59-42ab-8dc5-cfc34faae11b",
   "metadata": {},
   "outputs": [
    {
     "data": {
      "text/plain": [
       "Index(['gender', 'SeniorCitizen', 'Partner', 'Dependents', 'tenure',\n",
       "       'PhoneService', 'MultipleLines', 'OnlineSecurity', 'OnlineBackup',\n",
       "       'DeviceProtection', 'TechSupport', 'StreamingTV', 'StreamingMovies',\n",
       "       'PaperlessBilling', 'MonthlyCharges', 'TotalCharges', 'Churn',\n",
       "       'InternetService_DSL', 'InternetService_Fiber optic',\n",
       "       'InternetService_No', 'Contract_Month-to-month', 'Contract_One year',\n",
       "       'Contract_Two year', 'PaymentMethod_Bank transfer (automatic)',\n",
       "       'PaymentMethod_Credit card (automatic)',\n",
       "       'PaymentMethod_Electronic check', 'PaymentMethod_Mailed check'],\n",
       "      dtype='object')"
      ]
     },
     "execution_count": 31,
     "metadata": {},
     "output_type": "execute_result"
    }
   ],
   "source": [
    "df2 = pd.get_dummies(data=df1, columns=['InternetService','Contract','PaymentMethod'])\n",
    "df2.columns"
   ]
  },
  {
   "cell_type": "code",
   "execution_count": 32,
   "id": "56b610a0-f88d-409c-8d42-0d41543ef6d6",
   "metadata": {},
   "outputs": [
    {
     "data": {
      "text/html": [
       "<div>\n",
       "<style scoped>\n",
       "    .dataframe tbody tr th:only-of-type {\n",
       "        vertical-align: middle;\n",
       "    }\n",
       "\n",
       "    .dataframe tbody tr th {\n",
       "        vertical-align: top;\n",
       "    }\n",
       "\n",
       "    .dataframe thead th {\n",
       "        text-align: right;\n",
       "    }\n",
       "</style>\n",
       "<table border=\"1\" class=\"dataframe\">\n",
       "  <thead>\n",
       "    <tr style=\"text-align: right;\">\n",
       "      <th></th>\n",
       "      <th>gender</th>\n",
       "      <th>SeniorCitizen</th>\n",
       "      <th>Partner</th>\n",
       "      <th>Dependents</th>\n",
       "      <th>tenure</th>\n",
       "      <th>PhoneService</th>\n",
       "      <th>MultipleLines</th>\n",
       "      <th>OnlineSecurity</th>\n",
       "      <th>OnlineBackup</th>\n",
       "      <th>DeviceProtection</th>\n",
       "      <th>...</th>\n",
       "      <th>InternetService_DSL</th>\n",
       "      <th>InternetService_Fiber optic</th>\n",
       "      <th>InternetService_No</th>\n",
       "      <th>Contract_Month-to-month</th>\n",
       "      <th>Contract_One year</th>\n",
       "      <th>Contract_Two year</th>\n",
       "      <th>PaymentMethod_Bank transfer (automatic)</th>\n",
       "      <th>PaymentMethod_Credit card (automatic)</th>\n",
       "      <th>PaymentMethod_Electronic check</th>\n",
       "      <th>PaymentMethod_Mailed check</th>\n",
       "    </tr>\n",
       "  </thead>\n",
       "  <tbody>\n",
       "    <tr>\n",
       "      <th>4110</th>\n",
       "      <td>0</td>\n",
       "      <td>0</td>\n",
       "      <td>1</td>\n",
       "      <td>0</td>\n",
       "      <td>70</td>\n",
       "      <td>1</td>\n",
       "      <td>0</td>\n",
       "      <td>1</td>\n",
       "      <td>1</td>\n",
       "      <td>0</td>\n",
       "      <td>...</td>\n",
       "      <td>True</td>\n",
       "      <td>False</td>\n",
       "      <td>False</td>\n",
       "      <td>False</td>\n",
       "      <td>False</td>\n",
       "      <td>True</td>\n",
       "      <td>False</td>\n",
       "      <td>False</td>\n",
       "      <td>False</td>\n",
       "      <td>True</td>\n",
       "    </tr>\n",
       "    <tr>\n",
       "      <th>3834</th>\n",
       "      <td>1</td>\n",
       "      <td>0</td>\n",
       "      <td>1</td>\n",
       "      <td>1</td>\n",
       "      <td>57</td>\n",
       "      <td>1</td>\n",
       "      <td>0</td>\n",
       "      <td>1</td>\n",
       "      <td>0</td>\n",
       "      <td>0</td>\n",
       "      <td>...</td>\n",
       "      <td>True</td>\n",
       "      <td>False</td>\n",
       "      <td>False</td>\n",
       "      <td>False</td>\n",
       "      <td>True</td>\n",
       "      <td>False</td>\n",
       "      <td>True</td>\n",
       "      <td>False</td>\n",
       "      <td>False</td>\n",
       "      <td>False</td>\n",
       "    </tr>\n",
       "    <tr>\n",
       "      <th>5316</th>\n",
       "      <td>0</td>\n",
       "      <td>0</td>\n",
       "      <td>1</td>\n",
       "      <td>1</td>\n",
       "      <td>49</td>\n",
       "      <td>1</td>\n",
       "      <td>1</td>\n",
       "      <td>0</td>\n",
       "      <td>1</td>\n",
       "      <td>1</td>\n",
       "      <td>...</td>\n",
       "      <td>False</td>\n",
       "      <td>True</td>\n",
       "      <td>False</td>\n",
       "      <td>False</td>\n",
       "      <td>True</td>\n",
       "      <td>False</td>\n",
       "      <td>False</td>\n",
       "      <td>False</td>\n",
       "      <td>True</td>\n",
       "      <td>False</td>\n",
       "    </tr>\n",
       "  </tbody>\n",
       "</table>\n",
       "<p>3 rows × 27 columns</p>\n",
       "</div>"
      ],
      "text/plain": [
       "      gender  SeniorCitizen  Partner  Dependents  tenure  PhoneService  \\\n",
       "4110       0              0        1           0      70             1   \n",
       "3834       1              0        1           1      57             1   \n",
       "5316       0              0        1           1      49             1   \n",
       "\n",
       "      MultipleLines  OnlineSecurity  OnlineBackup  DeviceProtection  ...  \\\n",
       "4110              0               1             1                 0  ...   \n",
       "3834              0               1             0                 0  ...   \n",
       "5316              1               0             1                 1  ...   \n",
       "\n",
       "      InternetService_DSL  InternetService_Fiber optic  InternetService_No  \\\n",
       "4110                 True                        False               False   \n",
       "3834                 True                        False               False   \n",
       "5316                False                         True               False   \n",
       "\n",
       "      Contract_Month-to-month  Contract_One year  Contract_Two year  \\\n",
       "4110                    False              False               True   \n",
       "3834                    False               True              False   \n",
       "5316                    False               True              False   \n",
       "\n",
       "      PaymentMethod_Bank transfer (automatic)  \\\n",
       "4110                                    False   \n",
       "3834                                     True   \n",
       "5316                                    False   \n",
       "\n",
       "      PaymentMethod_Credit card (automatic)  PaymentMethod_Electronic check  \\\n",
       "4110                                  False                           False   \n",
       "3834                                  False                           False   \n",
       "5316                                  False                            True   \n",
       "\n",
       "      PaymentMethod_Mailed check  \n",
       "4110                        True  \n",
       "3834                       False  \n",
       "5316                       False  \n",
       "\n",
       "[3 rows x 27 columns]"
      ]
     },
     "execution_count": 32,
     "metadata": {},
     "output_type": "execute_result"
    }
   ],
   "source": [
    "df2.sample(3)"
   ]
  },
  {
   "cell_type": "code",
   "execution_count": 33,
   "id": "50a7d103-302a-4d68-932f-2127bc9b96bd",
   "metadata": {},
   "outputs": [
    {
     "data": {
      "text/plain": [
       "gender                                       int64\n",
       "SeniorCitizen                                int64\n",
       "Partner                                      int64\n",
       "Dependents                                   int64\n",
       "tenure                                       int64\n",
       "PhoneService                                 int64\n",
       "MultipleLines                                int64\n",
       "OnlineSecurity                               int64\n",
       "OnlineBackup                                 int64\n",
       "DeviceProtection                             int64\n",
       "TechSupport                                  int64\n",
       "StreamingTV                                  int64\n",
       "StreamingMovies                              int64\n",
       "PaperlessBilling                             int64\n",
       "MonthlyCharges                             float64\n",
       "TotalCharges                               float64\n",
       "Churn                                        int64\n",
       "InternetService_DSL                           bool\n",
       "InternetService_Fiber optic                   bool\n",
       "InternetService_No                            bool\n",
       "Contract_Month-to-month                       bool\n",
       "Contract_One year                             bool\n",
       "Contract_Two year                             bool\n",
       "PaymentMethod_Bank transfer (automatic)       bool\n",
       "PaymentMethod_Credit card (automatic)         bool\n",
       "PaymentMethod_Electronic check                bool\n",
       "PaymentMethod_Mailed check                    bool\n",
       "dtype: object"
      ]
     },
     "execution_count": 33,
     "metadata": {},
     "output_type": "execute_result"
    }
   ],
   "source": [
    "df2.dtypes"
   ]
  },
  {
   "cell_type": "code",
   "execution_count": 34,
   "id": "067f1eae-414c-40ae-a05b-95f8994a8e8e",
   "metadata": {},
   "outputs": [],
   "source": [
    "cols_to_scale = ['tenure','MonthlyCharges','TotalCharges']"
   ]
  },
  {
   "cell_type": "code",
   "execution_count": 35,
   "id": "ebe8aaf0-105f-46ae-ba06-93d3bda66d0e",
   "metadata": {},
   "outputs": [],
   "source": [
    "from sklearn.preprocessing import MinMaxScaler\n",
    "scaler = MinMaxScaler()"
   ]
  },
  {
   "cell_type": "code",
   "execution_count": 36,
   "id": "6e7bb248-bf40-4083-9d9c-c9e858d4decb",
   "metadata": {},
   "outputs": [],
   "source": [
    "df2[cols_to_scale] = scaler.fit_transform(df2[cols_to_scale])"
   ]
  },
  {
   "cell_type": "code",
   "execution_count": 37,
   "id": "e5e90490-337f-485b-bf00-f18ffaed1d1c",
   "metadata": {},
   "outputs": [
    {
     "data": {
      "text/html": [
       "<div>\n",
       "<style scoped>\n",
       "    .dataframe tbody tr th:only-of-type {\n",
       "        vertical-align: middle;\n",
       "    }\n",
       "\n",
       "    .dataframe tbody tr th {\n",
       "        vertical-align: top;\n",
       "    }\n",
       "\n",
       "    .dataframe thead th {\n",
       "        text-align: right;\n",
       "    }\n",
       "</style>\n",
       "<table border=\"1\" class=\"dataframe\">\n",
       "  <thead>\n",
       "    <tr style=\"text-align: right;\">\n",
       "      <th></th>\n",
       "      <th>gender</th>\n",
       "      <th>SeniorCitizen</th>\n",
       "      <th>Partner</th>\n",
       "      <th>Dependents</th>\n",
       "      <th>tenure</th>\n",
       "      <th>PhoneService</th>\n",
       "      <th>MultipleLines</th>\n",
       "      <th>OnlineSecurity</th>\n",
       "      <th>OnlineBackup</th>\n",
       "      <th>DeviceProtection</th>\n",
       "      <th>...</th>\n",
       "      <th>InternetService_DSL</th>\n",
       "      <th>InternetService_Fiber optic</th>\n",
       "      <th>InternetService_No</th>\n",
       "      <th>Contract_Month-to-month</th>\n",
       "      <th>Contract_One year</th>\n",
       "      <th>Contract_Two year</th>\n",
       "      <th>PaymentMethod_Bank transfer (automatic)</th>\n",
       "      <th>PaymentMethod_Credit card (automatic)</th>\n",
       "      <th>PaymentMethod_Electronic check</th>\n",
       "      <th>PaymentMethod_Mailed check</th>\n",
       "    </tr>\n",
       "  </thead>\n",
       "  <tbody>\n",
       "    <tr>\n",
       "      <th>1634</th>\n",
       "      <td>0</td>\n",
       "      <td>0</td>\n",
       "      <td>1</td>\n",
       "      <td>1</td>\n",
       "      <td>0.873239</td>\n",
       "      <td>0</td>\n",
       "      <td>0</td>\n",
       "      <td>1</td>\n",
       "      <td>1</td>\n",
       "      <td>1</td>\n",
       "      <td>...</td>\n",
       "      <td>True</td>\n",
       "      <td>False</td>\n",
       "      <td>False</td>\n",
       "      <td>False</td>\n",
       "      <td>False</td>\n",
       "      <td>True</td>\n",
       "      <td>False</td>\n",
       "      <td>False</td>\n",
       "      <td>True</td>\n",
       "      <td>False</td>\n",
       "    </tr>\n",
       "    <tr>\n",
       "      <th>857</th>\n",
       "      <td>0</td>\n",
       "      <td>0</td>\n",
       "      <td>0</td>\n",
       "      <td>0</td>\n",
       "      <td>0.000000</td>\n",
       "      <td>1</td>\n",
       "      <td>0</td>\n",
       "      <td>0</td>\n",
       "      <td>1</td>\n",
       "      <td>0</td>\n",
       "      <td>...</td>\n",
       "      <td>True</td>\n",
       "      <td>False</td>\n",
       "      <td>False</td>\n",
       "      <td>True</td>\n",
       "      <td>False</td>\n",
       "      <td>False</td>\n",
       "      <td>False</td>\n",
       "      <td>False</td>\n",
       "      <td>True</td>\n",
       "      <td>False</td>\n",
       "    </tr>\n",
       "    <tr>\n",
       "      <th>2004</th>\n",
       "      <td>0</td>\n",
       "      <td>0</td>\n",
       "      <td>0</td>\n",
       "      <td>0</td>\n",
       "      <td>0.323944</td>\n",
       "      <td>1</td>\n",
       "      <td>1</td>\n",
       "      <td>0</td>\n",
       "      <td>0</td>\n",
       "      <td>1</td>\n",
       "      <td>...</td>\n",
       "      <td>False</td>\n",
       "      <td>True</td>\n",
       "      <td>False</td>\n",
       "      <td>True</td>\n",
       "      <td>False</td>\n",
       "      <td>False</td>\n",
       "      <td>False</td>\n",
       "      <td>False</td>\n",
       "      <td>False</td>\n",
       "      <td>True</td>\n",
       "    </tr>\n",
       "  </tbody>\n",
       "</table>\n",
       "<p>3 rows × 27 columns</p>\n",
       "</div>"
      ],
      "text/plain": [
       "      gender  SeniorCitizen  Partner  Dependents    tenure  PhoneService  \\\n",
       "1634       0              0        1           1  0.873239             0   \n",
       "857        0              0        0           0  0.000000             1   \n",
       "2004       0              0        0           0  0.323944             1   \n",
       "\n",
       "      MultipleLines  OnlineSecurity  OnlineBackup  DeviceProtection  ...  \\\n",
       "1634              0               1             1                 1  ...   \n",
       "857               0               0             1                 0  ...   \n",
       "2004              1               0             0                 1  ...   \n",
       "\n",
       "      InternetService_DSL  InternetService_Fiber optic  InternetService_No  \\\n",
       "1634                 True                        False               False   \n",
       "857                  True                        False               False   \n",
       "2004                False                         True               False   \n",
       "\n",
       "      Contract_Month-to-month  Contract_One year  Contract_Two year  \\\n",
       "1634                    False              False               True   \n",
       "857                      True              False              False   \n",
       "2004                     True              False              False   \n",
       "\n",
       "      PaymentMethod_Bank transfer (automatic)  \\\n",
       "1634                                    False   \n",
       "857                                     False   \n",
       "2004                                    False   \n",
       "\n",
       "      PaymentMethod_Credit card (automatic)  PaymentMethod_Electronic check  \\\n",
       "1634                                  False                            True   \n",
       "857                                   False                            True   \n",
       "2004                                  False                           False   \n",
       "\n",
       "      PaymentMethod_Mailed check  \n",
       "1634                       False  \n",
       "857                        False  \n",
       "2004                        True  \n",
       "\n",
       "[3 rows x 27 columns]"
      ]
     },
     "execution_count": 37,
     "metadata": {},
     "output_type": "execute_result"
    }
   ],
   "source": [
    "df2.sample(3)"
   ]
  },
  {
   "cell_type": "code",
   "execution_count": 53,
   "id": "c2e2ece3-d1ce-4c72-8e57-e273bf99d1cc",
   "metadata": {},
   "outputs": [],
   "source": [
    "X = df2.drop('Churn', axis=1)\n",
    "X = X.astype('float64')\n",
    "y = df2['Churn']\n",
    "y = y.astype('float64')"
   ]
  },
  {
   "cell_type": "code",
   "execution_count": 54,
   "id": "3f885254-4562-44d7-ae19-69e0b25db527",
   "metadata": {},
   "outputs": [],
   "source": [
    "from sklearn.model_selection import train_test_split\n",
    "X_train,X_test, y_train, y_test = train_test_split(X, y, test_size=0.2, random_state=5)"
   ]
  },
  {
   "cell_type": "code",
   "execution_count": 55,
   "id": "14e03dae-b425-4688-8956-468125347e54",
   "metadata": {},
   "outputs": [
    {
     "data": {
      "text/plain": [
       "26"
      ]
     },
     "execution_count": 55,
     "metadata": {},
     "output_type": "execute_result"
    }
   ],
   "source": [
    "len(X_train.columns)"
   ]
  },
  {
   "cell_type": "code",
   "execution_count": 56,
   "id": "553d4ab0-fd71-4fbd-ac9a-591cd3e21738",
   "metadata": {},
   "outputs": [],
   "source": [
    "import tensorflow as tf\n",
    "from tensorflow import keras\n",
    "\n",
    "model = keras.Sequential([\n",
    "    keras.layers.Dense(26, input_shape=(26,), activation='relu'),\n",
    "    keras.layers.Dense(1, activation='sigmoid'),\n",
    "])"
   ]
  },
  {
   "cell_type": "code",
   "execution_count": 57,
   "id": "ce01d646-3f9e-44b6-849c-c2d9c9a87515",
   "metadata": {},
   "outputs": [],
   "source": [
    "model.compile(optimizer='adam',\n",
    "              loss='binary_crossentropy',\n",
    "              metrics=['accuracy'])"
   ]
  },
  {
   "cell_type": "code",
   "execution_count": 60,
   "id": "a74c1050-4e47-44dd-986b-56875b98ef3d",
   "metadata": {},
   "outputs": [
    {
     "name": "stdout",
     "output_type": "stream",
     "text": [
      "Epoch 1/100\n",
      "176/176 [==============================] - 3s 16ms/step - loss: 0.4132 - accuracy: 0.8055\n",
      "Epoch 2/100\n",
      "176/176 [==============================] - 3s 15ms/step - loss: 0.4110 - accuracy: 0.8075\n",
      "Epoch 3/100\n",
      "176/176 [==============================] - 3s 20ms/step - loss: 0.4102 - accuracy: 0.8073\n",
      "Epoch 4/100\n",
      "176/176 [==============================] - 3s 15ms/step - loss: 0.4090 - accuracy: 0.8071\n",
      "Epoch 5/100\n",
      "176/176 [==============================] - 3s 17ms/step - loss: 0.4077 - accuracy: 0.8069\n",
      "Epoch 6/100\n",
      "176/176 [==============================] - 3s 17ms/step - loss: 0.4078 - accuracy: 0.8082\n",
      "Epoch 7/100\n",
      "176/176 [==============================] - 3s 15ms/step - loss: 0.4058 - accuracy: 0.8101\n",
      "Epoch 8/100\n",
      "176/176 [==============================] - 3s 16ms/step - loss: 0.4055 - accuracy: 0.8098\n",
      "Epoch 9/100\n",
      "176/176 [==============================] - 3s 16ms/step - loss: 0.4047 - accuracy: 0.8100\n",
      "Epoch 10/100\n",
      "176/176 [==============================] - 3s 15ms/step - loss: 0.4040 - accuracy: 0.8096\n",
      "Epoch 11/100\n",
      "176/176 [==============================] - 3s 15ms/step - loss: 0.4036 - accuracy: 0.8107\n",
      "Epoch 12/100\n",
      "176/176 [==============================] - 3s 15ms/step - loss: 0.4030 - accuracy: 0.8098\n",
      "Epoch 13/100\n",
      "176/176 [==============================] - 3s 16ms/step - loss: 0.4021 - accuracy: 0.8121\n",
      "Epoch 14/100\n",
      "176/176 [==============================] - 2s 14ms/step - loss: 0.4016 - accuracy: 0.8114\n",
      "Epoch 15/100\n",
      "176/176 [==============================] - 2s 14ms/step - loss: 0.4004 - accuracy: 0.8116\n",
      "Epoch 16/100\n",
      "176/176 [==============================] - 3s 15ms/step - loss: 0.4001 - accuracy: 0.8135\n",
      "Epoch 17/100\n",
      "176/176 [==============================] - 3s 15ms/step - loss: 0.3991 - accuracy: 0.8135\n",
      "Epoch 18/100\n",
      "176/176 [==============================] - 2s 14ms/step - loss: 0.3989 - accuracy: 0.8144\n",
      "Epoch 19/100\n",
      "176/176 [==============================] - 3s 15ms/step - loss: 0.3989 - accuracy: 0.8149\n",
      "Epoch 20/100\n",
      "176/176 [==============================] - 3s 16ms/step - loss: 0.3984 - accuracy: 0.8151\n",
      "Epoch 21/100\n",
      "176/176 [==============================] - 3s 15ms/step - loss: 0.3970 - accuracy: 0.8151\n",
      "Epoch 22/100\n",
      "176/176 [==============================] - 3s 15ms/step - loss: 0.3969 - accuracy: 0.8126\n",
      "Epoch 23/100\n",
      "176/176 [==============================] - 3s 15ms/step - loss: 0.3972 - accuracy: 0.8128\n",
      "Epoch 24/100\n",
      "176/176 [==============================] - 3s 16ms/step - loss: 0.3961 - accuracy: 0.8158\n",
      "Epoch 25/100\n",
      "176/176 [==============================] - 3s 15ms/step - loss: 0.3959 - accuracy: 0.8132\n",
      "Epoch 26/100\n",
      "176/176 [==============================] - 2s 13ms/step - loss: 0.3956 - accuracy: 0.8185\n",
      "Epoch 27/100\n",
      "176/176 [==============================] - 3s 15ms/step - loss: 0.3956 - accuracy: 0.8162\n",
      "Epoch 28/100\n",
      "176/176 [==============================] - 2s 14ms/step - loss: 0.3946 - accuracy: 0.8144\n",
      "Epoch 29/100\n",
      "176/176 [==============================] - 2s 14ms/step - loss: 0.3944 - accuracy: 0.8148\n",
      "Epoch 30/100\n",
      "176/176 [==============================] - 3s 16ms/step - loss: 0.3932 - accuracy: 0.8167\n",
      "Epoch 31/100\n",
      "176/176 [==============================] - 3s 16ms/step - loss: 0.3934 - accuracy: 0.8194\n",
      "Epoch 32/100\n",
      "176/176 [==============================] - 3s 15ms/step - loss: 0.3925 - accuracy: 0.8156\n",
      "Epoch 33/100\n",
      "176/176 [==============================] - 2s 14ms/step - loss: 0.3918 - accuracy: 0.8160\n",
      "Epoch 34/100\n",
      "176/176 [==============================] - 3s 15ms/step - loss: 0.3929 - accuracy: 0.8178\n",
      "Epoch 35/100\n",
      "176/176 [==============================] - 3s 15ms/step - loss: 0.3913 - accuracy: 0.8169\n",
      "Epoch 36/100\n",
      "176/176 [==============================] - 3s 15ms/step - loss: 0.3913 - accuracy: 0.8169\n",
      "Epoch 37/100\n",
      "176/176 [==============================] - 3s 16ms/step - loss: 0.3908 - accuracy: 0.8167\n",
      "Epoch 38/100\n",
      "176/176 [==============================] - 3s 14ms/step - loss: 0.3905 - accuracy: 0.8183\n",
      "Epoch 39/100\n",
      "176/176 [==============================] - 3s 16ms/step - loss: 0.3902 - accuracy: 0.8178\n",
      "Epoch 40/100\n",
      "176/176 [==============================] - 2s 14ms/step - loss: 0.3898 - accuracy: 0.8171\n",
      "Epoch 41/100\n",
      "176/176 [==============================] - 3s 15ms/step - loss: 0.3900 - accuracy: 0.8165\n",
      "Epoch 42/100\n",
      "176/176 [==============================] - 3s 15ms/step - loss: 0.3887 - accuracy: 0.8162\n",
      "Epoch 43/100\n",
      "176/176 [==============================] - 3s 15ms/step - loss: 0.3887 - accuracy: 0.8148\n",
      "Epoch 44/100\n",
      "176/176 [==============================] - 2s 14ms/step - loss: 0.3885 - accuracy: 0.8176\n",
      "Epoch 45/100\n",
      "176/176 [==============================] - 2s 13ms/step - loss: 0.3875 - accuracy: 0.8190\n",
      "Epoch 46/100\n",
      "176/176 [==============================] - 3s 16ms/step - loss: 0.3875 - accuracy: 0.8171\n",
      "Epoch 47/100\n",
      "176/176 [==============================] - 3s 15ms/step - loss: 0.3877 - accuracy: 0.8149\n",
      "Epoch 48/100\n",
      "176/176 [==============================] - 3s 16ms/step - loss: 0.3872 - accuracy: 0.8187\n",
      "Epoch 49/100\n",
      "176/176 [==============================] - 3s 15ms/step - loss: 0.3869 - accuracy: 0.8185\n",
      "Epoch 50/100\n",
      "176/176 [==============================] - 3s 15ms/step - loss: 0.3866 - accuracy: 0.8178\n",
      "Epoch 51/100\n",
      "176/176 [==============================] - 3s 14ms/step - loss: 0.3865 - accuracy: 0.8174\n",
      "Epoch 52/100\n",
      "176/176 [==============================] - 3s 14ms/step - loss: 0.3858 - accuracy: 0.8181\n",
      "Epoch 53/100\n",
      "176/176 [==============================] - 3s 14ms/step - loss: 0.3863 - accuracy: 0.8169\n",
      "Epoch 54/100\n",
      "176/176 [==============================] - 3s 17ms/step - loss: 0.3857 - accuracy: 0.8183\n",
      "Epoch 55/100\n",
      "176/176 [==============================] - 3s 15ms/step - loss: 0.3853 - accuracy: 0.8176\n",
      "Epoch 56/100\n",
      "176/176 [==============================] - 3s 15ms/step - loss: 0.3859 - accuracy: 0.8151\n",
      "Epoch 57/100\n",
      "176/176 [==============================] - 2s 14ms/step - loss: 0.3854 - accuracy: 0.8167\n",
      "Epoch 58/100\n",
      "176/176 [==============================] - 3s 16ms/step - loss: 0.3852 - accuracy: 0.8192\n",
      "Epoch 59/100\n",
      "176/176 [==============================] - 3s 15ms/step - loss: 0.3846 - accuracy: 0.8183\n",
      "Epoch 60/100\n",
      "176/176 [==============================] - 3s 15ms/step - loss: 0.3848 - accuracy: 0.8160\n",
      "Epoch 61/100\n",
      "176/176 [==============================] - 3s 16ms/step - loss: 0.3842 - accuracy: 0.8174\n",
      "Epoch 62/100\n",
      "176/176 [==============================] - 3s 16ms/step - loss: 0.3843 - accuracy: 0.8165\n",
      "Epoch 63/100\n",
      "176/176 [==============================] - 3s 15ms/step - loss: 0.3840 - accuracy: 0.8192\n",
      "Epoch 64/100\n",
      "176/176 [==============================] - 3s 16ms/step - loss: 0.3834 - accuracy: 0.8171\n",
      "Epoch 65/100\n",
      "176/176 [==============================] - 3s 16ms/step - loss: 0.3830 - accuracy: 0.8196\n",
      "Epoch 66/100\n",
      "176/176 [==============================] - 3s 16ms/step - loss: 0.3836 - accuracy: 0.8172\n",
      "Epoch 67/100\n",
      "176/176 [==============================] - 3s 15ms/step - loss: 0.3830 - accuracy: 0.8190\n",
      "Epoch 68/100\n",
      "176/176 [==============================] - 3s 15ms/step - loss: 0.3824 - accuracy: 0.8169\n",
      "Epoch 69/100\n",
      "176/176 [==============================] - 3s 15ms/step - loss: 0.3825 - accuracy: 0.8180\n",
      "Epoch 70/100\n",
      "176/176 [==============================] - 3s 16ms/step - loss: 0.3822 - accuracy: 0.8192\n",
      "Epoch 71/100\n",
      "176/176 [==============================] - 3s 15ms/step - loss: 0.3826 - accuracy: 0.8169\n",
      "Epoch 72/100\n",
      "176/176 [==============================] - 3s 15ms/step - loss: 0.3815 - accuracy: 0.8215\n",
      "Epoch 73/100\n",
      "176/176 [==============================] - 3s 15ms/step - loss: 0.3817 - accuracy: 0.8212\n",
      "Epoch 74/100\n",
      "176/176 [==============================] - 3s 16ms/step - loss: 0.3813 - accuracy: 0.8199\n",
      "Epoch 75/100\n",
      "176/176 [==============================] - 3s 16ms/step - loss: 0.3816 - accuracy: 0.8215\n",
      "Epoch 76/100\n",
      "176/176 [==============================] - 3s 16ms/step - loss: 0.3810 - accuracy: 0.8212\n",
      "Epoch 77/100\n",
      "176/176 [==============================] - 3s 15ms/step - loss: 0.3822 - accuracy: 0.8188\n",
      "Epoch 78/100\n",
      "176/176 [==============================] - 3s 16ms/step - loss: 0.3803 - accuracy: 0.8201\n",
      "Epoch 79/100\n",
      "176/176 [==============================] - 3s 16ms/step - loss: 0.3809 - accuracy: 0.8181\n",
      "Epoch 80/100\n",
      "176/176 [==============================] - 3s 16ms/step - loss: 0.3801 - accuracy: 0.8213\n",
      "Epoch 81/100\n",
      "176/176 [==============================] - 3s 16ms/step - loss: 0.3798 - accuracy: 0.8197\n",
      "Epoch 82/100\n",
      "176/176 [==============================] - 2s 14ms/step - loss: 0.3802 - accuracy: 0.8210\n",
      "Epoch 83/100\n",
      "176/176 [==============================] - 3s 16ms/step - loss: 0.3799 - accuracy: 0.8196\n",
      "Epoch 84/100\n",
      "176/176 [==============================] - 3s 15ms/step - loss: 0.3795 - accuracy: 0.8203\n",
      "Epoch 85/100\n",
      "176/176 [==============================] - 3s 17ms/step - loss: 0.3792 - accuracy: 0.8208\n",
      "Epoch 86/100\n",
      "176/176 [==============================] - 3s 16ms/step - loss: 0.3791 - accuracy: 0.8196\n",
      "Epoch 87/100\n",
      "176/176 [==============================] - 3s 14ms/step - loss: 0.3792 - accuracy: 0.8220\n",
      "Epoch 88/100\n",
      "176/176 [==============================] - 3s 15ms/step - loss: 0.3794 - accuracy: 0.8210\n",
      "Epoch 89/100\n",
      "176/176 [==============================] - 3s 15ms/step - loss: 0.3787 - accuracy: 0.8174\n",
      "Epoch 90/100\n",
      "176/176 [==============================] - 3s 15ms/step - loss: 0.3785 - accuracy: 0.8199\n",
      "Epoch 91/100\n",
      "176/176 [==============================] - 3s 15ms/step - loss: 0.3786 - accuracy: 0.8215\n",
      "Epoch 92/100\n",
      "176/176 [==============================] - 3s 18ms/step - loss: 0.3778 - accuracy: 0.8185\n",
      "Epoch 93/100\n",
      "176/176 [==============================] - 3s 17ms/step - loss: 0.3776 - accuracy: 0.8210\n",
      "Epoch 94/100\n",
      "176/176 [==============================] - 3s 15ms/step - loss: 0.3780 - accuracy: 0.8222\n",
      "Epoch 95/100\n",
      "176/176 [==============================] - 3s 16ms/step - loss: 0.3776 - accuracy: 0.8215\n",
      "Epoch 96/100\n",
      "176/176 [==============================] - 3s 15ms/step - loss: 0.3780 - accuracy: 0.8197\n",
      "Epoch 97/100\n",
      "176/176 [==============================] - 3s 15ms/step - loss: 0.3782 - accuracy: 0.8192\n",
      "Epoch 98/100\n",
      "176/176 [==============================] - 3s 15ms/step - loss: 0.3777 - accuracy: 0.8199\n",
      "Epoch 99/100\n",
      "176/176 [==============================] - 3s 15ms/step - loss: 0.3777 - accuracy: 0.8228\n",
      "Epoch 100/100\n",
      "176/176 [==============================] - 3s 16ms/step - loss: 0.3777 - accuracy: 0.8240\n"
     ]
    },
    {
     "data": {
      "text/plain": [
       "<keras.callbacks.History at 0x173444bb310>"
      ]
     },
     "execution_count": 60,
     "metadata": {},
     "output_type": "execute_result"
    }
   ],
   "source": [
    "model.fit(X_train, y_train, epochs=100)"
   ]
  },
  {
   "cell_type": "code",
   "execution_count": 59,
   "id": "9f25fa87-cec5-48ae-b43a-c856be5ff655",
   "metadata": {},
   "outputs": [
    {
     "data": {
      "text/plain": [
       "gender                                     float64\n",
       "SeniorCitizen                              float64\n",
       "Partner                                    float64\n",
       "Dependents                                 float64\n",
       "tenure                                     float64\n",
       "PhoneService                               float64\n",
       "MultipleLines                              float64\n",
       "OnlineSecurity                             float64\n",
       "OnlineBackup                               float64\n",
       "DeviceProtection                           float64\n",
       "TechSupport                                float64\n",
       "StreamingTV                                float64\n",
       "StreamingMovies                            float64\n",
       "PaperlessBilling                           float64\n",
       "MonthlyCharges                             float64\n",
       "TotalCharges                               float64\n",
       "InternetService_DSL                        float64\n",
       "InternetService_Fiber optic                float64\n",
       "InternetService_No                         float64\n",
       "Contract_Month-to-month                    float64\n",
       "Contract_One year                          float64\n",
       "Contract_Two year                          float64\n",
       "PaymentMethod_Bank transfer (automatic)    float64\n",
       "PaymentMethod_Credit card (automatic)      float64\n",
       "PaymentMethod_Electronic check             float64\n",
       "PaymentMethod_Mailed check                 float64\n",
       "dtype: object"
      ]
     },
     "execution_count": 59,
     "metadata": {},
     "output_type": "execute_result"
    }
   ],
   "source": [
    "X_train.dtypes"
   ]
  },
  {
   "cell_type": "code",
   "execution_count": 51,
   "id": "f3ff3efa-cd25-4bdd-846d-f1e8dfc47c48",
   "metadata": {},
   "outputs": [
    {
     "data": {
      "text/plain": [
       "dtype('int64')"
      ]
     },
     "execution_count": 51,
     "metadata": {},
     "output_type": "execute_result"
    }
   ],
   "source": [
    "y_train.dtypes"
   ]
  },
  {
   "cell_type": "code",
   "execution_count": 61,
   "id": "eb1dd6c7-9dca-4d23-b452-dccbcc6f51d3",
   "metadata": {},
   "outputs": [
    {
     "name": "stdout",
     "output_type": "stream",
     "text": [
      "44/44 [==============================] - 0s 6ms/step\n"
     ]
    },
    {
     "data": {
      "text/plain": [
       "array([[0.19163668],\n",
       "       [0.37540814],\n",
       "       [0.00380433],\n",
       "       [0.8078162 ],\n",
       "       [0.33747515]], dtype=float32)"
      ]
     },
     "execution_count": 61,
     "metadata": {},
     "output_type": "execute_result"
    }
   ],
   "source": [
    "yp = model.predict(X_test)\n",
    "yp[:5]"
   ]
  },
  {
   "cell_type": "code",
   "execution_count": 62,
   "id": "9b3c683f-73f5-4f41-8085-9d247129caec",
   "metadata": {},
   "outputs": [],
   "source": [
    "y_pred = []\n",
    "for val in yp:\n",
    "    if val > 0.5:\n",
    "        y_pred.append(1)\n",
    "    else:\n",
    "        y_pred.append(0)"
   ]
  },
  {
   "cell_type": "code",
   "execution_count": 63,
   "id": "968434f1-6e64-4773-89e5-a90cc817b45d",
   "metadata": {},
   "outputs": [
    {
     "data": {
      "text/plain": [
       "[0, 0, 0, 1, 0, 1, 0, 0, 0, 0]"
      ]
     },
     "execution_count": 63,
     "metadata": {},
     "output_type": "execute_result"
    }
   ],
   "source": [
    "y_pred[:10]"
   ]
  },
  {
   "cell_type": "code",
   "execution_count": 64,
   "id": "1b4f957f-2f5a-4886-9862-b62279cd0006",
   "metadata": {},
   "outputs": [
    {
     "data": {
      "text/plain": [
       "2660    0.0\n",
       "744     0.0\n",
       "5579    1.0\n",
       "64      1.0\n",
       "3287    1.0\n",
       "816     1.0\n",
       "2670    0.0\n",
       "5920    0.0\n",
       "1023    0.0\n",
       "6087    0.0\n",
       "Name: Churn, dtype: float64"
      ]
     },
     "execution_count": 64,
     "metadata": {},
     "output_type": "execute_result"
    }
   ],
   "source": [
    "y_test[:10]"
   ]
  },
  {
   "cell_type": "code",
   "execution_count": 66,
   "id": "f9c3f020-8c25-4016-9bc6-450750f8da7a",
   "metadata": {},
   "outputs": [
    {
     "name": "stdout",
     "output_type": "stream",
     "text": [
      "              precision    recall  f1-score   support\n",
      "\n",
      "         0.0       0.82      0.90      0.86       999\n",
      "         1.0       0.68      0.51      0.58       408\n",
      "\n",
      "    accuracy                           0.79      1407\n",
      "   macro avg       0.75      0.71      0.72      1407\n",
      "weighted avg       0.78      0.79      0.78      1407\n",
      "\n"
     ]
    }
   ],
   "source": [
    "from sklearn.metrics import classification_report\n",
    "print(classification_report(y_test, y_pred))"
   ]
  },
  {
   "cell_type": "code",
   "execution_count": 67,
   "id": "149ed961-a2ef-463a-9422-34a5d05eac8e",
   "metadata": {},
   "outputs": [
    {
     "data": {
      "text/plain": [
       "Text(95.72222222222221, 0.5, 'Truth')"
      ]
     },
     "execution_count": 67,
     "metadata": {},
     "output_type": "execute_result"
    },
    {
     "data": {
      "image/png": "[encoded data removed]",
      "text/plain": [
       "<Figure size 1000x700 with 2 Axes>"
      ]
     },
     "metadata": {},
     "output_type": "display_data"
    }
   ],
   "source": [
    "import seaborn as sns\n",
    "cm = tf.math.confusion_matrix(labels = y_test, predictions = y_pred)\n",
    "\n",
    "plt.figure(figsize = (10,7))\n",
    "sns.heatmap(cm,annot=True, fmt='d')\n",
    "plt.xlabel('Predicted')\n",
    "plt.ylabel('Truth')"
   ]
  },
  {
   "cell_type": "code",
   "execution_count": null,
   "id": "d7e422bf-6d70-4df7-a4d2-dba472b1feda",
   "metadata": {},
   "outputs": [],
   "source": []
  }
 ],
 "metadata": {
  "kernelspec": {
   "display_name": "Python 3 (ipykernel)",
   "language": "python",
   "name": "python3"
  },
  "language_info": {
   "codemirror_mode": {
    "name": "ipython",
    "version": 3
   },
   "file_extension": ".py",
   "mimetype": "text/x-python",
   "name": "python",
   "nbconvert_exporter": "python",
   "pygments_lexer": "ipython3",
   "version": "3.10.10"
  }
 },
 "nbformat": 4,
 "nbformat_minor": 5
}
