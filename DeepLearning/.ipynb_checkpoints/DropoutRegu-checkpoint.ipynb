{
 "cells": [
  {
   "cell_type": "code",
   "execution_count": 1,
   "id": "140c7bf6-924f-47f9-81f8-509f2821ca71",
   "metadata": {},
   "outputs": [],
   "source": [
    "import numpy as np\n",
    "import pandas as pd\n",
    "import matplotlib.pyplot as plt\n",
    "import seaborn as sns\n"
   ]
  },
  {
   "cell_type": "code",
   "execution_count": 2,
   "id": "e36c2f70-9f80-4a26-bb18-45214ddadab5",
   "metadata": {},
   "outputs": [
    {
     "data": {
      "text/html": [
       "<div>\n",
       "<style scoped>\n",
       "    .dataframe tbody tr th:only-of-type {\n",
       "        vertical-align: middle;\n",
       "    }\n",
       "\n",
       "    .dataframe tbody tr th {\n",
       "        vertical-align: top;\n",
       "    }\n",
       "\n",
       "    .dataframe thead th {\n",
       "        text-align: right;\n",
       "    }\n",
       "</style>\n",
       "<table border=\"1\" class=\"dataframe\">\n",
       "  <thead>\n",
       "    <tr style=\"text-align: right;\">\n",
       "      <th></th>\n",
       "      <th>0</th>\n",
       "      <th>1</th>\n",
       "      <th>2</th>\n",
       "      <th>3</th>\n",
       "      <th>4</th>\n",
       "      <th>5</th>\n",
       "      <th>6</th>\n",
       "      <th>7</th>\n",
       "      <th>8</th>\n",
       "      <th>9</th>\n",
       "      <th>...</th>\n",
       "      <th>51</th>\n",
       "      <th>52</th>\n",
       "      <th>53</th>\n",
       "      <th>54</th>\n",
       "      <th>55</th>\n",
       "      <th>56</th>\n",
       "      <th>57</th>\n",
       "      <th>58</th>\n",
       "      <th>59</th>\n",
       "      <th>60</th>\n",
       "    </tr>\n",
       "  </thead>\n",
       "  <tbody>\n",
       "    <tr>\n",
       "      <th>79</th>\n",
       "      <td>0.0108</td>\n",
       "      <td>0.0086</td>\n",
       "      <td>0.0058</td>\n",
       "      <td>0.0460</td>\n",
       "      <td>0.0752</td>\n",
       "      <td>0.0887</td>\n",
       "      <td>0.1015</td>\n",
       "      <td>0.0494</td>\n",
       "      <td>0.0472</td>\n",
       "      <td>0.0393</td>\n",
       "      <td>...</td>\n",
       "      <td>0.0029</td>\n",
       "      <td>0.0078</td>\n",
       "      <td>0.0114</td>\n",
       "      <td>0.0083</td>\n",
       "      <td>0.0058</td>\n",
       "      <td>0.0003</td>\n",
       "      <td>0.0023</td>\n",
       "      <td>0.0026</td>\n",
       "      <td>0.0027</td>\n",
       "      <td>R</td>\n",
       "    </tr>\n",
       "    <tr>\n",
       "      <th>20</th>\n",
       "      <td>0.0473</td>\n",
       "      <td>0.0509</td>\n",
       "      <td>0.0819</td>\n",
       "      <td>0.1252</td>\n",
       "      <td>0.1783</td>\n",
       "      <td>0.3070</td>\n",
       "      <td>0.3008</td>\n",
       "      <td>0.2362</td>\n",
       "      <td>0.3830</td>\n",
       "      <td>0.3759</td>\n",
       "      <td>...</td>\n",
       "      <td>0.0193</td>\n",
       "      <td>0.0118</td>\n",
       "      <td>0.0064</td>\n",
       "      <td>0.0042</td>\n",
       "      <td>0.0054</td>\n",
       "      <td>0.0049</td>\n",
       "      <td>0.0082</td>\n",
       "      <td>0.0028</td>\n",
       "      <td>0.0027</td>\n",
       "      <td>R</td>\n",
       "    </tr>\n",
       "    <tr>\n",
       "      <th>127</th>\n",
       "      <td>0.0209</td>\n",
       "      <td>0.0261</td>\n",
       "      <td>0.0120</td>\n",
       "      <td>0.0768</td>\n",
       "      <td>0.1064</td>\n",
       "      <td>0.1680</td>\n",
       "      <td>0.3016</td>\n",
       "      <td>0.3460</td>\n",
       "      <td>0.3314</td>\n",
       "      <td>0.4125</td>\n",
       "      <td>...</td>\n",
       "      <td>0.0057</td>\n",
       "      <td>0.0159</td>\n",
       "      <td>0.0085</td>\n",
       "      <td>0.0372</td>\n",
       "      <td>0.0101</td>\n",
       "      <td>0.0127</td>\n",
       "      <td>0.0288</td>\n",
       "      <td>0.0129</td>\n",
       "      <td>0.0023</td>\n",
       "      <td>M</td>\n",
       "    </tr>\n",
       "    <tr>\n",
       "      <th>185</th>\n",
       "      <td>0.0340</td>\n",
       "      <td>0.0625</td>\n",
       "      <td>0.0381</td>\n",
       "      <td>0.0257</td>\n",
       "      <td>0.0441</td>\n",
       "      <td>0.1027</td>\n",
       "      <td>0.1287</td>\n",
       "      <td>0.1850</td>\n",
       "      <td>0.2647</td>\n",
       "      <td>0.4117</td>\n",
       "      <td>...</td>\n",
       "      <td>0.0141</td>\n",
       "      <td>0.0019</td>\n",
       "      <td>0.0067</td>\n",
       "      <td>0.0099</td>\n",
       "      <td>0.0042</td>\n",
       "      <td>0.0057</td>\n",
       "      <td>0.0051</td>\n",
       "      <td>0.0033</td>\n",
       "      <td>0.0058</td>\n",
       "      <td>M</td>\n",
       "    </tr>\n",
       "    <tr>\n",
       "      <th>191</th>\n",
       "      <td>0.0315</td>\n",
       "      <td>0.0252</td>\n",
       "      <td>0.0167</td>\n",
       "      <td>0.0479</td>\n",
       "      <td>0.0902</td>\n",
       "      <td>0.1057</td>\n",
       "      <td>0.1024</td>\n",
       "      <td>0.1209</td>\n",
       "      <td>0.1241</td>\n",
       "      <td>0.1533</td>\n",
       "      <td>...</td>\n",
       "      <td>0.0108</td>\n",
       "      <td>0.0062</td>\n",
       "      <td>0.0044</td>\n",
       "      <td>0.0072</td>\n",
       "      <td>0.0007</td>\n",
       "      <td>0.0054</td>\n",
       "      <td>0.0035</td>\n",
       "      <td>0.0001</td>\n",
       "      <td>0.0055</td>\n",
       "      <td>M</td>\n",
       "    </tr>\n",
       "  </tbody>\n",
       "</table>\n",
       "<p>5 rows × 61 columns</p>\n",
       "</div>"
      ],
      "text/plain": [
       "         0       1       2       3       4       5       6       7       8   \\\n",
       "79   0.0108  0.0086  0.0058  0.0460  0.0752  0.0887  0.1015  0.0494  0.0472   \n",
       "20   0.0473  0.0509  0.0819  0.1252  0.1783  0.3070  0.3008  0.2362  0.3830   \n",
       "127  0.0209  0.0261  0.0120  0.0768  0.1064  0.1680  0.3016  0.3460  0.3314   \n",
       "185  0.0340  0.0625  0.0381  0.0257  0.0441  0.1027  0.1287  0.1850  0.2647   \n",
       "191  0.0315  0.0252  0.0167  0.0479  0.0902  0.1057  0.1024  0.1209  0.1241   \n",
       "\n",
       "         9   ...      51      52      53      54      55      56      57  \\\n",
       "79   0.0393  ...  0.0029  0.0078  0.0114  0.0083  0.0058  0.0003  0.0023   \n",
       "20   0.3759  ...  0.0193  0.0118  0.0064  0.0042  0.0054  0.0049  0.0082   \n",
       "127  0.4125  ...  0.0057  0.0159  0.0085  0.0372  0.0101  0.0127  0.0288   \n",
       "185  0.4117  ...  0.0141  0.0019  0.0067  0.0099  0.0042  0.0057  0.0051   \n",
       "191  0.1533  ...  0.0108  0.0062  0.0044  0.0072  0.0007  0.0054  0.0035   \n",
       "\n",
       "         58      59  60  \n",
       "79   0.0026  0.0027   R  \n",
       "20   0.0028  0.0027   R  \n",
       "127  0.0129  0.0023   M  \n",
       "185  0.0033  0.0058   M  \n",
       "191  0.0001  0.0055   M  \n",
       "\n",
       "[5 rows x 61 columns]"
      ]
     },
     "execution_count": 2,
     "metadata": {},
     "output_type": "execute_result"
    }
   ],
   "source": [
    "import warnings\n",
    "warnings.filterwarnings('ignore')\n",
    "\n",
    "df=pd.read_csv(\"sonar_dataset.csv\",header=None)\n",
    "df.sample(5)"
   ]
  },
  {
   "cell_type": "code",
   "execution_count": 3,
   "id": "21bf422f-f68f-4551-9ce4-2fb0000bac07",
   "metadata": {},
   "outputs": [
    {
     "data": {
      "text/plain": [
       "(208, 61)"
      ]
     },
     "execution_count": 3,
     "metadata": {},
     "output_type": "execute_result"
    }
   ],
   "source": [
    "df.shape"
   ]
  },
  {
   "cell_type": "code",
   "execution_count": 4,
   "id": "643e9e7f-43c1-45c5-b99d-12e333ca1dce",
   "metadata": {},
   "outputs": [
    {
     "data": {
      "text/plain": [
       "0     0\n",
       "1     0\n",
       "2     0\n",
       "3     0\n",
       "4     0\n",
       "     ..\n",
       "56    0\n",
       "57    0\n",
       "58    0\n",
       "59    0\n",
       "60    0\n",
       "Length: 61, dtype: int64"
      ]
     },
     "execution_count": 4,
     "metadata": {},
     "output_type": "execute_result"
    }
   ],
   "source": [
    "df.isnull().sum()"
   ]
  },
  {
   "cell_type": "code",
   "execution_count": 5,
   "id": "b24c5edf-b6d7-49c0-a14d-85005558c0f8",
   "metadata": {},
   "outputs": [
    {
     "data": {
      "text/plain": [
       "Index([ 0,  1,  2,  3,  4,  5,  6,  7,  8,  9, 10, 11, 12, 13, 14, 15, 16, 17,\n",
       "       18, 19, 20, 21, 22, 23, 24, 25, 26, 27, 28, 29, 30, 31, 32, 33, 34, 35,\n",
       "       36, 37, 38, 39, 40, 41, 42, 43, 44, 45, 46, 47, 48, 49, 50, 51, 52, 53,\n",
       "       54, 55, 56, 57, 58, 59, 60],\n",
       "      dtype='int64')"
      ]
     },
     "execution_count": 5,
     "metadata": {},
     "output_type": "execute_result"
    }
   ],
   "source": [
    "df.columns"
   ]
  },
  {
   "cell_type": "code",
   "execution_count": 6,
   "id": "1e1e679e-cfda-4b75-8722-6f0848e9482d",
   "metadata": {},
   "outputs": [
    {
     "data": {
      "text/plain": [
       "60\n",
       "M    111\n",
       "R     97\n",
       "Name: count, dtype: int64"
      ]
     },
     "execution_count": 6,
     "metadata": {},
     "output_type": "execute_result"
    }
   ],
   "source": [
    "df[60].value_counts()"
   ]
  },
  {
   "cell_type": "code",
   "execution_count": 7,
   "id": "49bda1f4-e5de-4499-ac85-16cf51bc1a59",
   "metadata": {},
   "outputs": [
    {
     "data": {
      "text/plain": [
       "0    R\n",
       "1    R\n",
       "2    R\n",
       "3    R\n",
       "4    R\n",
       "Name: 60, dtype: object"
      ]
     },
     "execution_count": 7,
     "metadata": {},
     "output_type": "execute_result"
    }
   ],
   "source": [
    "X = df.drop(60, axis=1)\n",
    "y = df[60]\n",
    "y.head()"
   ]
  },
  {
   "cell_type": "code",
   "execution_count": 15,
   "id": "d2f8468d-fd38-4eee-9745-4ac7c4928ad6",
   "metadata": {},
   "outputs": [],
   "source": [
    "y = y.replace('R',1)"
   ]
  },
  {
   "cell_type": "code",
   "execution_count": 16,
   "id": "df911583-cb29-4e82-be8e-4c68615cf567",
   "metadata": {},
   "outputs": [],
   "source": [
    "y = y.replace('M', 0)"
   ]
  },
  {
   "cell_type": "code",
   "execution_count": 17,
   "id": "9cdc3c5f-2c43-4d4d-b758-9f2a97a8ab32",
   "metadata": {},
   "outputs": [
    {
     "data": {
      "text/plain": [
       "60\n",
       "1    111\n",
       "0     97\n",
       "Name: count, dtype: int64"
      ]
     },
     "execution_count": 17,
     "metadata": {},
     "output_type": "execute_result"
    }
   ],
   "source": [
    "y.value_counts()"
   ]
  },
  {
   "cell_type": "code",
   "execution_count": 18,
   "id": "c50019d8-a956-4574-aa13-423339667c11",
   "metadata": {},
   "outputs": [],
   "source": [
    "from sklearn.model_selection import train_test_split\n",
    "X_train, X_test, y_train, y_test = train_test_split(X, y, test_size=0.2,random_state=42)"
   ]
  },
  {
   "cell_type": "code",
   "execution_count": 19,
   "id": "9fa6af62-d1a6-44c5-81e4-9d7952a1e78d",
   "metadata": {},
   "outputs": [],
   "source": [
    "import tensorflow as tf\n",
    "from tensorflow import keras"
   ]
  },
  {
   "cell_type": "code",
   "execution_count": 26,
   "id": "9548b157-beb4-4a9d-b3b2-e64bb9866a52",
   "metadata": {},
   "outputs": [],
   "source": [
    "model = keras.Sequential([\n",
    "    keras.layers.Dense(60, input_shape=(60,),activation='relu'),\n",
    "    keras.layers.Dense(30, activation='relu'),\n",
    "    keras.layers.Dense(15, activation = 'relu'),\n",
    "    keras.layers.Dense(1, activation ='sigmoid'),\n",
    "])"
   ]
  },
  {
   "cell_type": "code",
   "execution_count": 27,
   "id": "4e28d073-bee7-4552-812b-b8ce3c68da61",
   "metadata": {},
   "outputs": [],
   "source": [
    "model.compile(optimizer='adam',\n",
    "          loss='binary_crossentropy',\n",
    "          metrics=['accuracy'])"
   ]
  },
  {
   "cell_type": "code",
   "execution_count": 29,
   "id": "3fe9ba95-d763-4147-a025-0b5f9f41c771",
   "metadata": {},
   "outputs": [
    {
     "name": "stdout",
     "output_type": "stream",
     "text": [
      "Epoch 1/100\n",
      "21/21 [==============================] - 0s 17ms/step - loss: 0.6252 - accuracy: 0.7771\n",
      "Epoch 2/100\n",
      "21/21 [==============================] - 0s 20ms/step - loss: 0.6117 - accuracy: 0.7289\n",
      "Epoch 3/100\n",
      "21/21 [==============================] - 0s 16ms/step - loss: 0.5866 - accuracy: 0.7530\n",
      "Epoch 4/100\n",
      "21/21 [==============================] - 0s 16ms/step - loss: 0.5510 - accuracy: 0.8072\n",
      "Epoch 5/100\n",
      "21/21 [==============================] - 0s 19ms/step - loss: 0.5231 - accuracy: 0.7892\n",
      "Epoch 6/100\n",
      "21/21 [==============================] - 0s 17ms/step - loss: 0.5028 - accuracy: 0.8072\n",
      "Epoch 7/100\n",
      "21/21 [==============================] - 0s 16ms/step - loss: 0.4741 - accuracy: 0.8373\n",
      "Epoch 8/100\n",
      "21/21 [==============================] - 0s 18ms/step - loss: 0.4621 - accuracy: 0.7952\n",
      "Epoch 9/100\n",
      "21/21 [==============================] - 0s 16ms/step - loss: 0.4427 - accuracy: 0.8072\n",
      "Epoch 10/100\n",
      "21/21 [==============================] - 0s 21ms/step - loss: 0.4096 - accuracy: 0.8373\n",
      "Epoch 11/100\n",
      "21/21 [==============================] - 0s 17ms/step - loss: 0.3763 - accuracy: 0.8494\n",
      "Epoch 12/100\n",
      "21/21 [==============================] - 0s 16ms/step - loss: 0.3668 - accuracy: 0.8434\n",
      "Epoch 13/100\n",
      "21/21 [==============================] - 0s 21ms/step - loss: 0.3748 - accuracy: 0.8373\n",
      "Epoch 14/100\n",
      "21/21 [==============================] - 0s 18ms/step - loss: 0.3344 - accuracy: 0.8976\n",
      "Epoch 15/100\n",
      "21/21 [==============================] - 0s 18ms/step - loss: 0.3154 - accuracy: 0.8855\n",
      "Epoch 16/100\n",
      "21/21 [==============================] - 0s 16ms/step - loss: 0.3048 - accuracy: 0.8855\n",
      "Epoch 17/100\n",
      "21/21 [==============================] - 0s 15ms/step - loss: 0.3016 - accuracy: 0.8916\n",
      "Epoch 18/100\n",
      "21/21 [==============================] - 0s 18ms/step - loss: 0.2831 - accuracy: 0.8976\n",
      "Epoch 19/100\n",
      "21/21 [==============================] - 0s 15ms/step - loss: 0.3150 - accuracy: 0.8675\n",
      "Epoch 20/100\n",
      "21/21 [==============================] - 0s 17ms/step - loss: 0.2965 - accuracy: 0.8976\n",
      "Epoch 21/100\n",
      "21/21 [==============================] - 0s 17ms/step - loss: 0.2544 - accuracy: 0.9096\n",
      "Epoch 22/100\n",
      "21/21 [==============================] - 0s 17ms/step - loss: 0.2531 - accuracy: 0.9157\n",
      "Epoch 23/100\n",
      "21/21 [==============================] - 0s 18ms/step - loss: 0.2455 - accuracy: 0.9398\n",
      "Epoch 24/100\n",
      "21/21 [==============================] - 0s 16ms/step - loss: 0.2411 - accuracy: 0.9096\n",
      "Epoch 25/100\n",
      "21/21 [==============================] - 0s 17ms/step - loss: 0.2678 - accuracy: 0.9036\n",
      "Epoch 26/100\n",
      "21/21 [==============================] - 0s 16ms/step - loss: 0.2093 - accuracy: 0.9458\n",
      "Epoch 27/100\n",
      "21/21 [==============================] - 0s 18ms/step - loss: 0.1992 - accuracy: 0.9398\n",
      "Epoch 28/100\n",
      "21/21 [==============================] - 0s 14ms/step - loss: 0.1878 - accuracy: 0.9458\n",
      "Epoch 29/100\n",
      "21/21 [==============================] - 0s 17ms/step - loss: 0.1791 - accuracy: 0.9398\n",
      "Epoch 30/100\n",
      "21/21 [==============================] - 0s 22ms/step - loss: 0.1755 - accuracy: 0.9578\n",
      "Epoch 31/100\n",
      "21/21 [==============================] - 0s 18ms/step - loss: 0.1872 - accuracy: 0.9337\n",
      "Epoch 32/100\n",
      "21/21 [==============================] - 0s 19ms/step - loss: 0.1647 - accuracy: 0.9578\n",
      "Epoch 33/100\n",
      "21/21 [==============================] - 0s 15ms/step - loss: 0.1617 - accuracy: 0.9458\n",
      "Epoch 34/100\n",
      "21/21 [==============================] - 0s 19ms/step - loss: 0.1401 - accuracy: 0.9699\n",
      "Epoch 35/100\n",
      "21/21 [==============================] - 0s 18ms/step - loss: 0.1334 - accuracy: 0.9759\n",
      "Epoch 36/100\n",
      "21/21 [==============================] - 0s 17ms/step - loss: 0.1240 - accuracy: 0.9759\n",
      "Epoch 37/100\n",
      "21/21 [==============================] - 0s 19ms/step - loss: 0.1231 - accuracy: 0.9819\n",
      "Epoch 38/100\n",
      "21/21 [==============================] - 0s 18ms/step - loss: 0.1155 - accuracy: 0.9759\n",
      "Epoch 39/100\n",
      "21/21 [==============================] - 0s 18ms/step - loss: 0.1057 - accuracy: 0.9759\n",
      "Epoch 40/100\n",
      "21/21 [==============================] - 0s 21ms/step - loss: 0.1037 - accuracy: 0.9819\n",
      "Epoch 41/100\n",
      "21/21 [==============================] - 0s 15ms/step - loss: 0.1001 - accuracy: 0.9819\n",
      "Epoch 42/100\n",
      "21/21 [==============================] - 0s 18ms/step - loss: 0.0870 - accuracy: 0.9880\n",
      "Epoch 43/100\n",
      "21/21 [==============================] - 0s 15ms/step - loss: 0.0853 - accuracy: 0.9819\n",
      "Epoch 44/100\n",
      "21/21 [==============================] - 0s 18ms/step - loss: 0.0698 - accuracy: 0.9880\n",
      "Epoch 45/100\n",
      "21/21 [==============================] - 0s 17ms/step - loss: 0.0664 - accuracy: 0.9880\n",
      "Epoch 46/100\n",
      "21/21 [==============================] - 0s 16ms/step - loss: 0.0601 - accuracy: 0.9880\n",
      "Epoch 47/100\n",
      "21/21 [==============================] - 0s 16ms/step - loss: 0.0556 - accuracy: 0.9880\n",
      "Epoch 48/100\n",
      "21/21 [==============================] - 0s 17ms/step - loss: 0.0657 - accuracy: 0.9880\n",
      "Epoch 49/100\n",
      "21/21 [==============================] - 0s 16ms/step - loss: 0.0514 - accuracy: 0.9880\n",
      "Epoch 50/100\n",
      "21/21 [==============================] - 0s 17ms/step - loss: 0.0452 - accuracy: 0.9940\n",
      "Epoch 51/100\n",
      "21/21 [==============================] - 0s 17ms/step - loss: 0.0432 - accuracy: 0.9880\n",
      "Epoch 52/100\n",
      "21/21 [==============================] - 0s 16ms/step - loss: 0.0398 - accuracy: 0.9940\n",
      "Epoch 53/100\n",
      "21/21 [==============================] - 0s 16ms/step - loss: 0.0395 - accuracy: 1.0000\n",
      "Epoch 54/100\n",
      "21/21 [==============================] - 0s 15ms/step - loss: 0.0301 - accuracy: 0.9940\n",
      "Epoch 55/100\n",
      "21/21 [==============================] - 0s 19ms/step - loss: 0.0264 - accuracy: 1.0000\n",
      "Epoch 56/100\n",
      "21/21 [==============================] - 0s 18ms/step - loss: 0.0311 - accuracy: 0.9940\n",
      "Epoch 57/100\n",
      "21/21 [==============================] - 0s 17ms/step - loss: 0.0252 - accuracy: 1.0000\n",
      "Epoch 58/100\n",
      "21/21 [==============================] - 0s 22ms/step - loss: 0.0221 - accuracy: 1.0000\n",
      "Epoch 59/100\n",
      "21/21 [==============================] - 0s 22ms/step - loss: 0.0199 - accuracy: 1.0000\n",
      "Epoch 60/100\n",
      "21/21 [==============================] - 0s 22ms/step - loss: 0.0182 - accuracy: 1.0000\n",
      "Epoch 61/100\n",
      "21/21 [==============================] - 0s 19ms/step - loss: 0.0177 - accuracy: 1.0000\n",
      "Epoch 62/100\n",
      "21/21 [==============================] - 0s 17ms/step - loss: 0.0162 - accuracy: 1.0000\n",
      "Epoch 63/100\n",
      "21/21 [==============================] - 0s 18ms/step - loss: 0.0153 - accuracy: 1.0000\n",
      "Epoch 64/100\n",
      "21/21 [==============================] - 0s 21ms/step - loss: 0.0142 - accuracy: 1.0000\n",
      "Epoch 65/100\n",
      "21/21 [==============================] - 0s 17ms/step - loss: 0.0133 - accuracy: 1.0000\n",
      "Epoch 66/100\n",
      "21/21 [==============================] - 0s 17ms/step - loss: 0.0122 - accuracy: 1.0000\n",
      "Epoch 67/100\n",
      "21/21 [==============================] - 0s 17ms/step - loss: 0.0122 - accuracy: 1.0000\n",
      "Epoch 68/100\n",
      "21/21 [==============================] - 0s 19ms/step - loss: 0.0125 - accuracy: 1.0000\n",
      "Epoch 69/100\n",
      "21/21 [==============================] - 0s 19ms/step - loss: 0.0099 - accuracy: 1.0000\n",
      "Epoch 70/100\n",
      "21/21 [==============================] - 0s 17ms/step - loss: 0.0096 - accuracy: 1.0000\n",
      "Epoch 71/100\n",
      "21/21 [==============================] - 0s 19ms/step - loss: 0.0089 - accuracy: 1.0000\n",
      "Epoch 72/100\n",
      "21/21 [==============================] - 0s 17ms/step - loss: 0.0085 - accuracy: 1.0000\n",
      "Epoch 73/100\n",
      "21/21 [==============================] - 0s 15ms/step - loss: 0.0084 - accuracy: 1.0000\n",
      "Epoch 74/100\n",
      "21/21 [==============================] - 0s 16ms/step - loss: 0.0079 - accuracy: 1.0000\n",
      "Epoch 75/100\n",
      "21/21 [==============================] - 0s 15ms/step - loss: 0.0067 - accuracy: 1.0000\n",
      "Epoch 76/100\n",
      "21/21 [==============================] - 0s 17ms/step - loss: 0.0061 - accuracy: 1.0000\n",
      "Epoch 77/100\n",
      "21/21 [==============================] - 0s 16ms/step - loss: 0.0058 - accuracy: 1.0000\n",
      "Epoch 78/100\n",
      "21/21 [==============================] - 0s 15ms/step - loss: 0.0059 - accuracy: 1.0000\n",
      "Epoch 79/100\n",
      "21/21 [==============================] - 0s 19ms/step - loss: 0.0050 - accuracy: 1.0000\n",
      "Epoch 80/100\n",
      "21/21 [==============================] - 0s 17ms/step - loss: 0.0050 - accuracy: 1.0000\n",
      "Epoch 81/100\n",
      "21/21 [==============================] - 0s 18ms/step - loss: 0.0047 - accuracy: 1.0000\n",
      "Epoch 82/100\n",
      "21/21 [==============================] - 0s 13ms/step - loss: 0.0049 - accuracy: 1.0000\n",
      "Epoch 83/100\n",
      "21/21 [==============================] - 0s 14ms/step - loss: 0.0042 - accuracy: 1.0000\n",
      "Epoch 84/100\n",
      "21/21 [==============================] - 0s 17ms/step - loss: 0.0041 - accuracy: 1.0000\n",
      "Epoch 85/100\n",
      "21/21 [==============================] - 0s 17ms/step - loss: 0.0042 - accuracy: 1.0000\n",
      "Epoch 86/100\n",
      "21/21 [==============================] - 0s 17ms/step - loss: 0.0037 - accuracy: 1.0000\n",
      "Epoch 87/100\n",
      "21/21 [==============================] - 0s 16ms/step - loss: 0.0035 - accuracy: 1.0000\n",
      "Epoch 88/100\n",
      "21/21 [==============================] - 0s 17ms/step - loss: 0.0033 - accuracy: 1.0000\n",
      "Epoch 89/100\n",
      "21/21 [==============================] - 0s 16ms/step - loss: 0.0034 - accuracy: 1.0000\n",
      "Epoch 90/100\n",
      "21/21 [==============================] - 0s 16ms/step - loss: 0.0032 - accuracy: 1.0000\n",
      "Epoch 91/100\n",
      "21/21 [==============================] - 0s 18ms/step - loss: 0.0030 - accuracy: 1.0000\n",
      "Epoch 92/100\n",
      "21/21 [==============================] - 0s 16ms/step - loss: 0.0028 - accuracy: 1.0000\n",
      "Epoch 93/100\n",
      "21/21 [==============================] - 0s 16ms/step - loss: 0.0028 - accuracy: 1.0000\n",
      "Epoch 94/100\n",
      "21/21 [==============================] - 0s 19ms/step - loss: 0.0027 - accuracy: 1.0000\n",
      "Epoch 95/100\n",
      "21/21 [==============================] - 0s 17ms/step - loss: 0.0025 - accuracy: 1.0000\n",
      "Epoch 96/100\n",
      "21/21 [==============================] - 0s 19ms/step - loss: 0.0025 - accuracy: 1.0000\n",
      "Epoch 97/100\n",
      "21/21 [==============================] - 0s 18ms/step - loss: 0.0024 - accuracy: 1.0000\n",
      "Epoch 98/100\n",
      "21/21 [==============================] - 0s 18ms/step - loss: 0.0022 - accuracy: 1.0000\n",
      "Epoch 99/100\n",
      "21/21 [==============================] - 0s 18ms/step - loss: 0.0022 - accuracy: 1.0000\n",
      "Epoch 100/100\n",
      "21/21 [==============================] - 0s 17ms/step - loss: 0.0022 - accuracy: 1.0000\n"
     ]
    },
    {
     "data": {
      "text/plain": [
       "<keras.callbacks.History at 0x250298d3cd0>"
      ]
     },
     "execution_count": 29,
     "metadata": {},
     "output_type": "execute_result"
    }
   ],
   "source": [
    "model.fit(X_train,y_train, epochs=100, batch_size=8)"
   ]
  },
  {
   "cell_type": "code",
   "execution_count": 30,
   "id": "eda1d193-405d-46e2-a049-8c659e0f5abd",
   "metadata": {},
   "outputs": [
    {
     "name": "stdout",
     "output_type": "stream",
     "text": [
      "2/2 [==============================] - 1s 32ms/step - loss: 0.6822 - accuracy: 0.8333\n"
     ]
    },
    {
     "data": {
      "text/plain": [
       "[0.6821838021278381, 0.8333333730697632]"
      ]
     },
     "execution_count": 30,
     "metadata": {},
     "output_type": "execute_result"
    }
   ],
   "source": [
    "model.evaluate(X_test, y_test)"
   ]
  },
  {
   "cell_type": "code",
   "execution_count": 32,
   "id": "b8744ac3-2a05-4c41-b09b-18c5b7d3e3ae",
   "metadata": {},
   "outputs": [],
   "source": [
    "model2 = keras.Sequential([\n",
    "    keras.layers.Dense(60, input_shape=(60,),activation='relu'),\n",
    "    keras.layers.Dropout(0.5),\n",
    "    keras.layers.Dense(30, activation='relu'),\n",
    "    keras.layers.Dropout(0.5),\n",
    "    keras.layers.Dense(15, activation = 'relu'),\n",
    "    keras.layers.Dropout(0.5),\n",
    "    keras.layers.Dense(1, activation ='sigmoid'),\n",
    "])\n",
    "\n",
    "model2.compile(optimizer='adam',loss='binary_crossentropy',metrics=['accuracy'])\n"
   ]
  },
  {
   "cell_type": "code",
   "execution_count": 33,
   "id": "739fcdc5-b93b-4496-ac17-f77e85a066c9",
   "metadata": {},
   "outputs": [
    {
     "name": "stdout",
     "output_type": "stream",
     "text": [
      "Epoch 1/100\n",
      "21/21 [==============================] - 2s 26ms/step - loss: 0.7910 - accuracy: 0.4940\n",
      "Epoch 2/100\n",
      "21/21 [==============================] - 1s 24ms/step - loss: 0.7592 - accuracy: 0.4759\n",
      "Epoch 3/100\n",
      "21/21 [==============================] - 0s 21ms/step - loss: 0.6910 - accuracy: 0.5482\n",
      "Epoch 4/100\n",
      "21/21 [==============================] - 0s 22ms/step - loss: 0.6913 - accuracy: 0.5301\n",
      "Epoch 5/100\n",
      "21/21 [==============================] - 1s 26ms/step - loss: 0.7111 - accuracy: 0.4819\n",
      "Epoch 6/100\n",
      "21/21 [==============================] - 1s 25ms/step - loss: 0.7026 - accuracy: 0.5060\n",
      "Epoch 7/100\n",
      "21/21 [==============================] - 1s 28ms/step - loss: 0.6851 - accuracy: 0.5602\n",
      "Epoch 8/100\n",
      "21/21 [==============================] - 1s 25ms/step - loss: 0.6920 - accuracy: 0.5361\n",
      "Epoch 9/100\n",
      "21/21 [==============================] - 0s 18ms/step - loss: 0.7027 - accuracy: 0.5000\n",
      "Epoch 10/100\n",
      "21/21 [==============================] - 1s 24ms/step - loss: 0.6822 - accuracy: 0.5361\n",
      "Epoch 11/100\n",
      "21/21 [==============================] - 1s 25ms/step - loss: 0.6943 - accuracy: 0.5301\n",
      "Epoch 12/100\n",
      "21/21 [==============================] - 0s 18ms/step - loss: 0.6724 - accuracy: 0.5904\n",
      "Epoch 13/100\n",
      "21/21 [==============================] - 0s 23ms/step - loss: 0.6847 - accuracy: 0.5301\n",
      "Epoch 14/100\n",
      "21/21 [==============================] - 1s 34ms/step - loss: 0.6805 - accuracy: 0.5241\n",
      "Epoch 15/100\n",
      "21/21 [==============================] - 1s 24ms/step - loss: 0.6801 - accuracy: 0.5060\n",
      "Epoch 16/100\n",
      "21/21 [==============================] - 0s 22ms/step - loss: 0.6684 - accuracy: 0.5663\n",
      "Epoch 17/100\n",
      "21/21 [==============================] - 1s 27ms/step - loss: 0.6862 - accuracy: 0.5783\n",
      "Epoch 18/100\n",
      "21/21 [==============================] - 1s 29ms/step - loss: 0.6647 - accuracy: 0.6205\n",
      "Epoch 19/100\n",
      "21/21 [==============================] - 0s 20ms/step - loss: 0.6758 - accuracy: 0.5120\n",
      "Epoch 20/100\n",
      "21/21 [==============================] - 1s 25ms/step - loss: 0.6631 - accuracy: 0.5602\n",
      "Epoch 21/100\n",
      "21/21 [==============================] - 0s 21ms/step - loss: 0.6814 - accuracy: 0.5723\n",
      "Epoch 22/100\n",
      "21/21 [==============================] - 1s 28ms/step - loss: 0.6563 - accuracy: 0.6145\n",
      "Epoch 23/100\n",
      "21/21 [==============================] - 1s 23ms/step - loss: 0.6515 - accuracy: 0.6205\n",
      "Epoch 24/100\n",
      "21/21 [==============================] - 0s 22ms/step - loss: 0.6592 - accuracy: 0.5602\n",
      "Epoch 25/100\n",
      "21/21 [==============================] - 1s 24ms/step - loss: 0.6248 - accuracy: 0.6928\n",
      "Epoch 26/100\n",
      "21/21 [==============================] - 1s 26ms/step - loss: 0.6564 - accuracy: 0.6205\n",
      "Epoch 27/100\n",
      "21/21 [==============================] - 0s 18ms/step - loss: 0.6192 - accuracy: 0.6566\n",
      "Epoch 28/100\n",
      "21/21 [==============================] - 0s 23ms/step - loss: 0.6196 - accuracy: 0.6205\n",
      "Epoch 29/100\n",
      "21/21 [==============================] - 0s 22ms/step - loss: 0.6077 - accuracy: 0.6506\n",
      "Epoch 30/100\n",
      "21/21 [==============================] - 1s 28ms/step - loss: 0.6149 - accuracy: 0.6386\n",
      "Epoch 31/100\n",
      "21/21 [==============================] - 1s 24ms/step - loss: 0.6431 - accuracy: 0.6265\n",
      "Epoch 32/100\n",
      "21/21 [==============================] - 1s 25ms/step - loss: 0.6454 - accuracy: 0.5904\n",
      "Epoch 33/100\n",
      "21/21 [==============================] - 1s 27ms/step - loss: 0.5885 - accuracy: 0.7048\n",
      "Epoch 34/100\n",
      "21/21 [==============================] - 1s 29ms/step - loss: 0.5779 - accuracy: 0.6928\n",
      "Epoch 35/100\n",
      "21/21 [==============================] - 1s 24ms/step - loss: 0.5809 - accuracy: 0.7108\n",
      "Epoch 36/100\n",
      "21/21 [==============================] - 0s 22ms/step - loss: 0.6137 - accuracy: 0.6566\n",
      "Epoch 37/100\n",
      "21/21 [==============================] - 0s 24ms/step - loss: 0.5941 - accuracy: 0.6687\n",
      "Epoch 38/100\n",
      "21/21 [==============================] - 1s 25ms/step - loss: 0.5581 - accuracy: 0.7048\n",
      "Epoch 39/100\n",
      "21/21 [==============================] - 1s 24ms/step - loss: 0.6259 - accuracy: 0.6325\n",
      "Epoch 40/100\n",
      "21/21 [==============================] - 1s 26ms/step - loss: 0.5672 - accuracy: 0.7108\n",
      "Epoch 41/100\n",
      "21/21 [==============================] - 0s 23ms/step - loss: 0.5315 - accuracy: 0.7410\n",
      "Epoch 42/100\n",
      "21/21 [==============================] - 1s 25ms/step - loss: 0.5302 - accuracy: 0.7530\n",
      "Epoch 43/100\n",
      "21/21 [==============================] - 1s 25ms/step - loss: 0.5868 - accuracy: 0.6747\n",
      "Epoch 44/100\n",
      "21/21 [==============================] - 1s 27ms/step - loss: 0.5412 - accuracy: 0.7530\n",
      "Epoch 45/100\n",
      "21/21 [==============================] - 1s 28ms/step - loss: 0.5282 - accuracy: 0.7711\n",
      "Epoch 46/100\n",
      "21/21 [==============================] - 1s 29ms/step - loss: 0.4737 - accuracy: 0.7952\n",
      "Epoch 47/100\n",
      "21/21 [==============================] - 1s 24ms/step - loss: 0.5189 - accuracy: 0.7651\n",
      "Epoch 48/100\n",
      "21/21 [==============================] - 1s 27ms/step - loss: 0.4926 - accuracy: 0.7530\n",
      "Epoch 49/100\n",
      "21/21 [==============================] - 1s 25ms/step - loss: 0.5393 - accuracy: 0.7349\n",
      "Epoch 50/100\n",
      "21/21 [==============================] - 1s 25ms/step - loss: 0.5327 - accuracy: 0.7289\n",
      "Epoch 51/100\n",
      "21/21 [==============================] - 1s 25ms/step - loss: 0.4859 - accuracy: 0.7771\n",
      "Epoch 52/100\n",
      "21/21 [==============================] - 1s 28ms/step - loss: 0.5471 - accuracy: 0.7169\n",
      "Epoch 53/100\n",
      "21/21 [==============================] - 1s 28ms/step - loss: 0.4852 - accuracy: 0.7530\n",
      "Epoch 54/100\n",
      "21/21 [==============================] - 1s 29ms/step - loss: 0.4473 - accuracy: 0.8133\n",
      "Epoch 55/100\n",
      "21/21 [==============================] - 1s 26ms/step - loss: 0.4744 - accuracy: 0.7410\n",
      "Epoch 56/100\n",
      "21/21 [==============================] - 1s 25ms/step - loss: 0.4626 - accuracy: 0.8133\n",
      "Epoch 57/100\n",
      "21/21 [==============================] - 1s 26ms/step - loss: 0.4561 - accuracy: 0.8072\n",
      "Epoch 58/100\n",
      "21/21 [==============================] - 0s 20ms/step - loss: 0.4695 - accuracy: 0.7289\n",
      "Epoch 59/100\n",
      "21/21 [==============================] - 1s 27ms/step - loss: 0.4326 - accuracy: 0.7892\n",
      "Epoch 60/100\n",
      "21/21 [==============================] - 1s 25ms/step - loss: 0.4606 - accuracy: 0.7831\n",
      "Epoch 61/100\n",
      "21/21 [==============================] - 1s 24ms/step - loss: 0.4340 - accuracy: 0.7831\n",
      "Epoch 62/100\n",
      "21/21 [==============================] - 1s 30ms/step - loss: 0.4300 - accuracy: 0.7892\n",
      "Epoch 63/100\n",
      "21/21 [==============================] - 0s 24ms/step - loss: 0.4638 - accuracy: 0.7410\n",
      "Epoch 64/100\n",
      "21/21 [==============================] - 1s 30ms/step - loss: 0.4383 - accuracy: 0.7831\n",
      "Epoch 65/100\n",
      "21/21 [==============================] - 0s 21ms/step - loss: 0.4535 - accuracy: 0.8072\n",
      "Epoch 66/100\n",
      "21/21 [==============================] - 0s 22ms/step - loss: 0.4374 - accuracy: 0.8012\n",
      "Epoch 67/100\n",
      "21/21 [==============================] - 1s 29ms/step - loss: 0.4251 - accuracy: 0.8253\n",
      "Epoch 68/100\n",
      "21/21 [==============================] - 1s 29ms/step - loss: 0.4207 - accuracy: 0.8193\n",
      "Epoch 69/100\n",
      "21/21 [==============================] - 0s 24ms/step - loss: 0.4250 - accuracy: 0.7952\n",
      "Epoch 70/100\n",
      "21/21 [==============================] - 1s 28ms/step - loss: 0.4077 - accuracy: 0.8193\n",
      "Epoch 71/100\n",
      "21/21 [==============================] - 1s 25ms/step - loss: 0.3659 - accuracy: 0.8554\n",
      "Epoch 72/100\n",
      "21/21 [==============================] - 1s 27ms/step - loss: 0.3987 - accuracy: 0.8133\n",
      "Epoch 73/100\n",
      "21/21 [==============================] - 1s 31ms/step - loss: 0.3847 - accuracy: 0.8313\n",
      "Epoch 74/100\n",
      "21/21 [==============================] - 1s 25ms/step - loss: 0.4220 - accuracy: 0.7831\n",
      "Epoch 75/100\n",
      "21/21 [==============================] - 0s 21ms/step - loss: 0.3783 - accuracy: 0.8313\n",
      "Epoch 76/100\n",
      "21/21 [==============================] - 1s 27ms/step - loss: 0.3770 - accuracy: 0.8313\n",
      "Epoch 77/100\n",
      "21/21 [==============================] - 0s 24ms/step - loss: 0.3491 - accuracy: 0.8554\n",
      "Epoch 78/100\n",
      "21/21 [==============================] - 0s 21ms/step - loss: 0.3710 - accuracy: 0.8253\n",
      "Epoch 79/100\n",
      "21/21 [==============================] - 1s 29ms/step - loss: 0.3553 - accuracy: 0.8253\n",
      "Epoch 80/100\n",
      "21/21 [==============================] - 1s 28ms/step - loss: 0.3813 - accuracy: 0.7892\n",
      "Epoch 81/100\n",
      "21/21 [==============================] - 1s 29ms/step - loss: 0.3862 - accuracy: 0.8313\n",
      "Epoch 82/100\n",
      "21/21 [==============================] - 1s 26ms/step - loss: 0.3468 - accuracy: 0.7952\n",
      "Epoch 83/100\n",
      "21/21 [==============================] - 1s 28ms/step - loss: 0.3720 - accuracy: 0.8373\n",
      "Epoch 84/100\n",
      "21/21 [==============================] - 0s 23ms/step - loss: 0.3628 - accuracy: 0.8373\n",
      "Epoch 85/100\n",
      "21/21 [==============================] - 1s 26ms/step - loss: 0.3863 - accuracy: 0.8253\n",
      "Epoch 86/100\n",
      "21/21 [==============================] - 0s 22ms/step - loss: 0.3786 - accuracy: 0.8072\n",
      "Epoch 87/100\n",
      "21/21 [==============================] - 1s 28ms/step - loss: 0.3973 - accuracy: 0.8012\n",
      "Epoch 88/100\n",
      "21/21 [==============================] - 1s 34ms/step - loss: 0.3707 - accuracy: 0.8012\n",
      "Epoch 89/100\n",
      "21/21 [==============================] - 0s 23ms/step - loss: 0.3396 - accuracy: 0.8735\n",
      "Epoch 90/100\n",
      "21/21 [==============================] - 1s 25ms/step - loss: 0.3355 - accuracy: 0.8614\n",
      "Epoch 91/100\n",
      "21/21 [==============================] - 1s 27ms/step - loss: 0.3317 - accuracy: 0.8675\n",
      "Epoch 92/100\n",
      "21/21 [==============================] - 1s 28ms/step - loss: 0.2809 - accuracy: 0.8614\n",
      "Epoch 93/100\n",
      "21/21 [==============================] - 1s 33ms/step - loss: 0.3277 - accuracy: 0.8795\n",
      "Epoch 94/100\n",
      "21/21 [==============================] - 1s 25ms/step - loss: 0.3256 - accuracy: 0.8494\n",
      "Epoch 95/100\n",
      "21/21 [==============================] - 1s 27ms/step - loss: 0.3245 - accuracy: 0.8614\n",
      "Epoch 96/100\n",
      "21/21 [==============================] - 1s 31ms/step - loss: 0.3016 - accuracy: 0.8976\n",
      "Epoch 97/100\n",
      "21/21 [==============================] - 1s 32ms/step - loss: 0.2848 - accuracy: 0.8735\n",
      "Epoch 98/100\n",
      "21/21 [==============================] - 1s 30ms/step - loss: 0.3264 - accuracy: 0.8614\n",
      "Epoch 99/100\n",
      "21/21 [==============================] - 1s 29ms/step - loss: 0.2681 - accuracy: 0.8916\n",
      "Epoch 100/100\n",
      "21/21 [==============================] - 1s 27ms/step - loss: 0.3046 - accuracy: 0.8795\n"
     ]
    },
    {
     "data": {
      "text/plain": [
       "<keras.callbacks.History at 0x2502990d300>"
      ]
     },
     "execution_count": 33,
     "metadata": {},
     "output_type": "execute_result"
    }
   ],
   "source": [
    "model2.fit(X_train, y_train, epochs = 100, batch_size=8)"
   ]
  },
  {
   "cell_type": "code",
   "execution_count": 34,
   "id": "1a613435-104d-4b8d-86a3-afd50d23c623",
   "metadata": {},
   "outputs": [
    {
     "name": "stdout",
     "output_type": "stream",
     "text": [
      "2/2 [==============================] - 0s 13ms/step - loss: 0.3502 - accuracy: 0.8571\n"
     ]
    },
    {
     "data": {
      "text/plain": [
       "[0.35017669200897217, 0.8571428656578064]"
      ]
     },
     "execution_count": 34,
     "metadata": {},
     "output_type": "execute_result"
    }
   ],
   "source": [
    "model2.evaluate(X_test,y_test)"
   ]
  },
  {
   "cell_type": "code",
   "execution_count": 35,
   "id": "b7b9f1ba-f207-4cf1-8a22-bffb61bbd601",
   "metadata": {},
   "outputs": [],
   "source": [
    "from sklearn.metrics import classification_report"
   ]
  },
  {
   "cell_type": "code",
   "execution_count": 37,
   "id": "138e8f08-c9bf-4b25-a8f7-dc015dd080a3",
   "metadata": {},
   "outputs": [
    {
     "name": "stdout",
     "output_type": "stream",
     "text": [
      "2/2 [==============================] - 0s 0s/step\n"
     ]
    }
   ],
   "source": [
    "y_pred = model.predict(X_test)"
   ]
  },
  {
   "cell_type": "code",
   "execution_count": 41,
   "id": "45b82418-6008-4f37-8d6e-6a56d9490c44",
   "metadata": {},
   "outputs": [],
   "source": [
    "y_predicted=[]\n",
    "for val in y_pred:\n",
    "    if val > 0.5:\n",
    "        y_predicted.append(1)\n",
    "    else:\n",
    "        y_predicted.append(0)"
   ]
  },
  {
   "cell_type": "code",
   "execution_count": 42,
   "id": "05ee3b7f-c17d-4bf9-a358-df678465442e",
   "metadata": {},
   "outputs": [
    {
     "name": "stdout",
     "output_type": "stream",
     "text": [
      "              precision    recall  f1-score   support\n",
      "\n",
      "           0       0.76      0.81      0.79        16\n",
      "           1       0.88      0.85      0.86        26\n",
      "\n",
      "    accuracy                           0.83        42\n",
      "   macro avg       0.82      0.83      0.83        42\n",
      "weighted avg       0.84      0.83      0.83        42\n",
      "\n"
     ]
    }
   ],
   "source": [
    "print(classification_report(y_test, y_predicted))"
   ]
  },
  {
   "cell_type": "code",
   "execution_count": null,
   "id": "26d64a0c-c493-4ee9-937c-c9ad16775bd0",
   "metadata": {},
   "outputs": [],
   "source": []
  }
 ],
 "metadata": {
  "kernelspec": {
   "display_name": "Python 3 (ipykernel)",
   "language": "python",
   "name": "python3"
  },
  "language_info": {
   "codemirror_mode": {
    "name": "ipython",
    "version": 3
   },
   "file_extension": ".py",
   "mimetype": "text/x-python",
   "name": "python",
   "nbconvert_exporter": "python",
   "pygments_lexer": "ipython3",
   "version": "3.10.10"
  }
 },
 "nbformat": 4,
 "nbformat_minor": 5
}
