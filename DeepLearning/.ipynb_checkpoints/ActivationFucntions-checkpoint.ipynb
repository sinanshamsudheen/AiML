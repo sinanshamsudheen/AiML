{
 "cells": [
  {
   "cell_type": "markdown",
   "id": "f81c2e2c-8e31-4398-85cb-17eb625b75cc",
   "metadata": {},
   "source": [
    "Use sigmoid in output layer. All other places try to use tanh,\n",
    "For hidden layers if you are not sure which activation function to use, just use ReLU\n",
    "as your default choice."
   ]
  },
  {
   "cell_type": "code",
   "execution_count": 11,
   "id": "303a6023-4cbb-4354-a20f-4e6c219d4c1a",
   "metadata": {},
   "outputs": [],
   "source": [
    "import math\n",
    "def sigmoid(x):\n",
    "    return 1/(1+math.exp(-x))\n",
    "\n",
    "def tanh(x):\n",
    "    return (math.exp(x) - math.exp(-x)) / (math.exp(x) + math.exp(-x))\n",
    "\n",
    "def ReLU(x):\n",
    "    return max(0,x)\n",
    "def leaky_ReLU(x):\n",
    "    return max(0.1*x,x)"
   ]
  },
  {
   "cell_type": "code",
   "execution_count": 3,
   "id": "abb9f2e2-22a9-4efd-8660-0f38f7cab5b1",
   "metadata": {},
   "outputs": [
    {
     "data": {
      "text/plain": [
       "0.7310585786300049"
      ]
     },
     "execution_count": 3,
     "metadata": {},
     "output_type": "execute_result"
    }
   ],
   "source": [
    "sigmoid(1)"
   ]
  },
  {
   "cell_type": "code",
   "execution_count": 4,
   "id": "06f508eb-d83f-45e3-9762-c3df6630c543",
   "metadata": {},
   "outputs": [
    {
     "data": {
      "text/plain": [
       "4.780892883885469e-25"
      ]
     },
     "execution_count": 4,
     "metadata": {},
     "output_type": "execute_result"
    }
   ],
   "source": [
    "sigmoid(-56)"
   ]
  },
  {
   "cell_type": "code",
   "execution_count": 7,
   "id": "7b10bb90-62dc-4655-a8b4-a5ddb85c3390",
   "metadata": {},
   "outputs": [
    {
     "data": {
      "text/plain": [
       "-1.0"
      ]
     },
     "execution_count": 7,
     "metadata": {},
     "output_type": "execute_result"
    }
   ],
   "source": [
    " tanh(-56)"
   ]
  },
  {
   "cell_type": "code",
   "execution_count": 10,
   "id": "b8f613e7-314e-4fcd-ade4-587963debd3e",
   "metadata": {},
   "outputs": [
    {
     "data": {
      "text/plain": [
       "0"
      ]
     },
     "execution_count": 10,
     "metadata": {},
     "output_type": "execute_result"
    }
   ],
   "source": [
    "ReLU(-9)"
   ]
  },
  {
   "cell_type": "code",
   "execution_count": 12,
   "id": "510d3db7-8912-431d-9eeb-7842d8edafbb",
   "metadata": {},
   "outputs": [
    {
     "data": {
      "text/plain": [
       "-0.9"
      ]
     },
     "execution_count": 12,
     "metadata": {},
     "output_type": "execute_result"
    }
   ],
   "source": [
    "leaky_ReLU(-9)\n"
   ]
  },
  {
   "cell_type": "code",
   "execution_count": null,
   "id": "399f6404-7eb0-44dd-a367-8b137a79d96a",
   "metadata": {},
   "outputs": [],
   "source": []
  }
 ],
 "metadata": {
  "kernelspec": {
   "display_name": "Python 3 (ipykernel)",
   "language": "python",
   "name": "python3"
  },
  "language_info": {
   "codemirror_mode": {
    "name": "ipython",
    "version": 3
   },
   "file_extension": ".py",
   "mimetype": "text/x-python",
   "name": "python",
   "nbconvert_exporter": "python",
   "pygments_lexer": "ipython3",
   "version": "3.10.10"
  }
 },
 "nbformat": 4,
 "nbformat_minor": 5
}
